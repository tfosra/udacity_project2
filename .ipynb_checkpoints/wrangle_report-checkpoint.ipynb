{
 "cells": [
  {
   "cell_type": "markdown",
   "metadata": {},
   "source": [
    "# Reporting: wrangle_report\n",
    "\n",
    "#### Table of contents\n",
    "- [Data Collection](#data_collection)\n",
    "- [Data Assessment](#data_assessment)\n",
    "    - [Visual evaluation](#visual_evaluation)\n",
    "    - [Visual evaluation](#programmatic_evaluation)\n",
    "- [Data Cleaning](#data_cleaning)"
   ]
  },
  {
   "cell_type": "markdown",
   "metadata": {},
   "source": [
    "<a id='data_collection'></a>\n",
    "## 1. Data Collection\n",
    "Data has been collected from three (03) different sources as requested by the project:\n",
    "-\tThe first table was loaded from a csv file downloaded from the Udacity website.\n",
    "-\tThe second table was programmatically downloaded using the `requests` library then loaded as a `.tsv` file.\n",
    "-\tFor the last table, we had to create a Twitter Developer account and retrieve the data using Twitter’s `Tweepy` API.\n",
    "\n",
    "Before interrogating the Twitter API, we had to prepare a list of `tweet_id` for the query. That list was created using all distinct `tweet_id` already existing in our first two tables.\n",
    "\n",
    "Because of the poor quality of our internet connection, the retrieval of data using the API took several hours for completion. Moreover, some of the tweets couldn’t be retrieved because they were already deleted. Those errors were handled in our code with a Python `try` ... `except` block"
   ]
  },
  {
   "cell_type": "markdown",
   "metadata": {},
   "source": [
    "<a id='data_assessment'></a>\n",
    "## 2. Data assessment\n",
    "The next part of our wrangling process was to assess the collected data. We did both visual and programmatic assessment.\n",
    "\n",
    "<a id='visual_evaluation'></a>\n",
    "### 2.1. Visual evaluation\n",
    "During the visual assessment, we were able to have a quick look at the tables using pandas `sample()` function and also using an external software (**Numbers** application in our case) : we made some observations for instance the existence of missing information in some columns, or the invalid ratings.\n",
    "\n",
    "Furthermore, we opened some of the urls in the dataset, accessing Twitter website, to understand the rating values for some lines (ratings with a numerator greater than 10). There we were able to understand that ratings with pictures having more than one dog are aggregated values.\n",
    "\n",
    "<a id='programmatic_evaluation'></a>\n",
    "### 2.2. Programmatic evaluation\n",
    "The programmatic evaluation aimed first at identifying invalid data types and column names. Then we tried looking for duplicated values which we didn’t find in all three datasets.\n",
    "Another important part of the wrangling process was to understand the relationship behind the 04 different dog stages, we had to make some research on the Internet.\n",
    "\n",
    "\n",
    "At the end of this process, we were able to gather **12 quality issues** and **02 tidiness issues** which were resolved during the cleaning process."
   ]
  },
  {
   "attachments": {},
   "cell_type": "markdown",
   "metadata": {},
   "source": [
    "<a id='data_cleaning'></a>\n",
    "## 3. Data cleaning\n",
    "The cleaning process started after duplicating the original datasets to avoid unexpected errors. We did manage each group of issues together: \n",
    "-\tThe data type issues\n",
    "-\tThe column names issues\n",
    "-\tThe issue with retweets for which we had to remove the lines that were not relevant for our study\n",
    "-\tThe issue with expanded urls\n",
    "-\tThe issue with the ratings\n",
    "-\tThe issue with dogs’ name, stage, and species\n",
    "\n",
    "Each issue treated was well explained and detailed then properly defined, coded, and tested at the end.\n"
   ]
  }
 ],
 "metadata": {
  "kernelspec": {
   "display_name": "Python 3 (ipykernel)",
   "language": "python",
   "name": "python3"
  },
  "language_info": {
   "codemirror_mode": {
    "name": "ipython",
    "version": 3
   },
   "file_extension": ".py",
   "mimetype": "text/x-python",
   "name": "python",
   "nbconvert_exporter": "python",
   "pygments_lexer": "ipython3",
   "version": "3.9.12"
  }
 },
 "nbformat": 4,
 "nbformat_minor": 2
}
