{
 "cells": [
  {
   "cell_type": "markdown",
   "metadata": {
    "extensions": {
     "jupyter_dashboards": {
      "version": 1,
      "views": {
       "grid_default": {
        "col": 0,
        "height": 4,
        "hidden": false,
        "row": 0,
        "width": 4
       },
       "report_default": {
        "hidden": false
       }
      }
     }
    }
   },
   "source": [
    "# Project: Wrangling and Analyze Data"
   ]
  },
  {
   "cell_type": "markdown",
   "metadata": {},
   "source": [
    "## Data Gathering\n",
    "In the cells below, we will gather **all** three pieces of data for the project and load them in the notebook using different methods.\n",
    "\n",
    "1. Directly download the WeRateDogs Twitter archive data (twitter_archive_enhanced.csv)"
   ]
  },
  {
   "cell_type": "code",
   "execution_count": 1,
   "metadata": {
    "extensions": {
     "jupyter_dashboards": {
      "version": 1,
      "views": {
       "grid_default": {
        "hidden": true
       },
       "report_default": {
        "hidden": true
       }
      }
     }
    }
   },
   "outputs": [],
   "source": [
    "import pandas as pd\n",
    "import matplotlib.pyplot as plt\n",
    "import seaborn as sns\n",
    "import requests\n",
    "import tweepy\n",
    "import numpy as np\n",
    "import json\n",
    "import time\n",
    "import re\n",
    "\n",
    "sns.set_theme(style=\"darkgrid\")"
   ]
  },
  {
   "cell_type": "code",
   "execution_count": 2,
   "metadata": {},
   "outputs": [
    {
     "data": {
      "text/html": [
       "<div>\n",
       "<style scoped>\n",
       "    .dataframe tbody tr th:only-of-type {\n",
       "        vertical-align: middle;\n",
       "    }\n",
       "\n",
       "    .dataframe tbody tr th {\n",
       "        vertical-align: top;\n",
       "    }\n",
       "\n",
       "    .dataframe thead th {\n",
       "        text-align: right;\n",
       "    }\n",
       "</style>\n",
       "<table border=\"1\" class=\"dataframe\">\n",
       "  <thead>\n",
       "    <tr style=\"text-align: right;\">\n",
       "      <th></th>\n",
       "      <th>tweet_id</th>\n",
       "      <th>in_reply_to_status_id</th>\n",
       "      <th>in_reply_to_user_id</th>\n",
       "      <th>timestamp</th>\n",
       "      <th>source</th>\n",
       "      <th>text</th>\n",
       "      <th>retweeted_status_id</th>\n",
       "      <th>retweeted_status_user_id</th>\n",
       "      <th>retweeted_status_timestamp</th>\n",
       "      <th>expanded_urls</th>\n",
       "      <th>rating_numerator</th>\n",
       "      <th>rating_denominator</th>\n",
       "      <th>name</th>\n",
       "      <th>doggo</th>\n",
       "      <th>floofer</th>\n",
       "      <th>pupper</th>\n",
       "      <th>puppo</th>\n",
       "    </tr>\n",
       "  </thead>\n",
       "  <tbody>\n",
       "    <tr>\n",
       "      <th>177</th>\n",
       "      <td>857393404942143489</td>\n",
       "      <td>NaN</td>\n",
       "      <td>NaN</td>\n",
       "      <td>2017-04-27 00:38:11 +0000</td>\n",
       "      <td>&lt;a href=\"http://twitter.com/download/iphone\" r...</td>\n",
       "      <td>Instead of the usual nightly dog rate, I'm sha...</td>\n",
       "      <td>NaN</td>\n",
       "      <td>NaN</td>\n",
       "      <td>NaN</td>\n",
       "      <td>https://www.gofundme.com/meeko-needs-heart-sur...</td>\n",
       "      <td>13</td>\n",
       "      <td>10</td>\n",
       "      <td>None</td>\n",
       "      <td>None</td>\n",
       "      <td>None</td>\n",
       "      <td>None</td>\n",
       "      <td>None</td>\n",
       "    </tr>\n",
       "  </tbody>\n",
       "</table>\n",
       "</div>"
      ],
      "text/plain": [
       "               tweet_id  in_reply_to_status_id  in_reply_to_user_id  \\\n",
       "177  857393404942143489                    NaN                  NaN   \n",
       "\n",
       "                     timestamp  \\\n",
       "177  2017-04-27 00:38:11 +0000   \n",
       "\n",
       "                                                source  \\\n",
       "177  <a href=\"http://twitter.com/download/iphone\" r...   \n",
       "\n",
       "                                                  text  retweeted_status_id  \\\n",
       "177  Instead of the usual nightly dog rate, I'm sha...                  NaN   \n",
       "\n",
       "     retweeted_status_user_id retweeted_status_timestamp  \\\n",
       "177                       NaN                        NaN   \n",
       "\n",
       "                                         expanded_urls  rating_numerator  \\\n",
       "177  https://www.gofundme.com/meeko-needs-heart-sur...                13   \n",
       "\n",
       "     rating_denominator  name doggo floofer pupper puppo  \n",
       "177                  10  None  None    None   None  None  "
      ]
     },
     "execution_count": 2,
     "metadata": {},
     "output_type": "execute_result"
    }
   ],
   "source": [
    "twitter_archive = pd.read_csv('twitter_archive_enhanced.csv')\n",
    "twitter_archive.sample()"
   ]
  },
  {
   "cell_type": "markdown",
   "metadata": {},
   "source": [
    "2. Use the Requests library to download the tweet image prediction (image_predictions.tsv)"
   ]
  },
  {
   "cell_type": "code",
   "execution_count": 3,
   "metadata": {},
   "outputs": [],
   "source": [
    "url = 'https://d17h27t6h515a5.cloudfront.net/topher/2017/August/599fd2ad_image-predictions/image-predictions.tsv'\n",
    "filename = 'image_predictions.tsv'"
   ]
  },
  {
   "cell_type": "code",
   "execution_count": 4,
   "metadata": {},
   "outputs": [],
   "source": [
    "response = requests.get(url)\n",
    "with open(filename, 'wb') as file:\n",
    "    file.write(response.content)"
   ]
  },
  {
   "cell_type": "code",
   "execution_count": 5,
   "metadata": {},
   "outputs": [
    {
     "data": {
      "text/html": [
       "<div>\n",
       "<style scoped>\n",
       "    .dataframe tbody tr th:only-of-type {\n",
       "        vertical-align: middle;\n",
       "    }\n",
       "\n",
       "    .dataframe tbody tr th {\n",
       "        vertical-align: top;\n",
       "    }\n",
       "\n",
       "    .dataframe thead th {\n",
       "        text-align: right;\n",
       "    }\n",
       "</style>\n",
       "<table border=\"1\" class=\"dataframe\">\n",
       "  <thead>\n",
       "    <tr style=\"text-align: right;\">\n",
       "      <th></th>\n",
       "      <th>tweet_id</th>\n",
       "      <th>jpg_url</th>\n",
       "      <th>img_num</th>\n",
       "      <th>p1</th>\n",
       "      <th>p1_conf</th>\n",
       "      <th>p1_dog</th>\n",
       "      <th>p2</th>\n",
       "      <th>p2_conf</th>\n",
       "      <th>p2_dog</th>\n",
       "      <th>p3</th>\n",
       "      <th>p3_conf</th>\n",
       "      <th>p3_dog</th>\n",
       "    </tr>\n",
       "  </thead>\n",
       "  <tbody>\n",
       "    <tr>\n",
       "      <th>1397</th>\n",
       "      <td>768193404517830656</td>\n",
       "      <td>https://pbs.twimg.com/media/Cqkr0wiW8AAn2Oi.jpg</td>\n",
       "      <td>1</td>\n",
       "      <td>lion</td>\n",
       "      <td>0.396984</td>\n",
       "      <td>False</td>\n",
       "      <td>ram</td>\n",
       "      <td>0.300851</td>\n",
       "      <td>False</td>\n",
       "      <td>cheetah</td>\n",
       "      <td>0.094474</td>\n",
       "      <td>False</td>\n",
       "    </tr>\n",
       "  </tbody>\n",
       "</table>\n",
       "</div>"
      ],
      "text/plain": [
       "                tweet_id                                          jpg_url  \\\n",
       "1397  768193404517830656  https://pbs.twimg.com/media/Cqkr0wiW8AAn2Oi.jpg   \n",
       "\n",
       "      img_num    p1   p1_conf  p1_dog   p2   p2_conf  p2_dog       p3  \\\n",
       "1397        1  lion  0.396984   False  ram  0.300851   False  cheetah   \n",
       "\n",
       "       p3_conf  p3_dog  \n",
       "1397  0.094474   False  "
      ]
     },
     "execution_count": 5,
     "metadata": {},
     "output_type": "execute_result"
    }
   ],
   "source": [
    "image_predictions = pd.read_csv(filename, sep='\\t')\n",
    "image_predictions.sample()"
   ]
  },
  {
   "cell_type": "markdown",
   "metadata": {},
   "source": [
    "3. Use the Tweepy library to query additional data via the Twitter API (tweet_json.txt)"
   ]
  },
  {
   "cell_type": "code",
   "execution_count": 6,
   "metadata": {},
   "outputs": [],
   "source": [
    "credentials = {}\n",
    "attributes = ['id_str', 'retweet_count', 'favorite_count', 'created_at', 'in_reply_to_status_id_str']\n",
    "keys = ['key', 'secret', 'token', 'token_secret']\n",
    "with open('credentials.txt') as file:\n",
    "    for k in keys:\n",
    "        credentials[k] = file.readline()[:-1]"
   ]
  },
  {
   "cell_type": "code",
   "execution_count": 7,
   "metadata": {},
   "outputs": [],
   "source": [
    "# Creating the list of tweet IDs\n",
    "tweet_ids = np.unique(list(twitter_archive.tweet_id.unique()) + list(image_predictions.tweet_id.unique()))"
   ]
  },
  {
   "cell_type": "code",
   "execution_count": 8,
   "metadata": {},
   "outputs": [],
   "source": [
    "auth = tweepy.OAuth1UserHandler(credentials['key'], credentials['secret'])\n",
    "auth.set_access_token(credentials['token'], credentials['token_secret'])\n",
    "api = tweepy.API(auth, wait_on_rate_limit=True)"
   ]
  },
  {
   "cell_type": "code",
   "execution_count": 9,
   "metadata": {},
   "outputs": [],
   "source": [
    "def read_tweets(tweet_ids):\n",
    "    datas = []\n",
    "    errors = []\n",
    "    count = 0\n",
    "    limit = len(tweet_ids)\n",
    "    print('Starting the collect...')\n",
    "    for tweet_id in tweet_ids:\n",
    "        count += 1\n",
    "        if count > limit:\n",
    "            break\n",
    "        try:\n",
    "            start = time.time()\n",
    "            tweet = api.get_status(tweet_id)\n",
    "            datas.append({a : tweet._json[a] for a in attributes})\n",
    "            end = time.time()\n",
    "            print(f'{count}/{limit} - Tweet id {tweet_id} retrieved after {end - start:.1f} seconds')\n",
    "        except Exception as e:\n",
    "            errors.append({'tweet_id': tweet_id, 'error': str(e)})\n",
    "            print(f'{count} - Error retrieving tweet : {tweet_id}')\n",
    "    print('... Collect ended')\n",
    "    return datas, errors"
   ]
  },
  {
   "cell_type": "code",
   "execution_count": 10,
   "metadata": {
    "scrolled": false
   },
   "outputs": [],
   "source": [
    "datas, errors = read_tweets(tweet_ids)\n",
    "if errors:\n",
    "    d, e = read_tweets([t['tweet_id'] for t in errors])\n",
    "    datas += d\n",
    "\n",
    "# Storing data in tweet_json.txt\n",
    "with open('tweet_json.txt', 'w') as file:\n",
    "    for data in datas:\n",
    "        file.write(json.dumps(data) + '\\n')"
   ]
  },
  {
   "cell_type": "code",
   "execution_count": 11,
   "metadata": {
    "scrolled": true
   },
   "outputs": [
    {
     "data": {
      "text/html": [
       "<div>\n",
       "<style scoped>\n",
       "    .dataframe tbody tr th:only-of-type {\n",
       "        vertical-align: middle;\n",
       "    }\n",
       "\n",
       "    .dataframe tbody tr th {\n",
       "        vertical-align: top;\n",
       "    }\n",
       "\n",
       "    .dataframe thead th {\n",
       "        text-align: right;\n",
       "    }\n",
       "</style>\n",
       "<table border=\"1\" class=\"dataframe\">\n",
       "  <thead>\n",
       "    <tr style=\"text-align: right;\">\n",
       "      <th></th>\n",
       "      <th>id_str</th>\n",
       "      <th>retweet_count</th>\n",
       "      <th>favorite_count</th>\n",
       "      <th>created_at</th>\n",
       "      <th>in_reply_to_status_id_str</th>\n",
       "    </tr>\n",
       "  </thead>\n",
       "  <tbody>\n",
       "    <tr>\n",
       "      <th>49</th>\n",
       "      <td>666835007768551424</td>\n",
       "      <td>65</td>\n",
       "      <td>183</td>\n",
       "      <td>Wed Nov 18 04:27:09 +0000 2015</td>\n",
       "      <td>None</td>\n",
       "    </tr>\n",
       "  </tbody>\n",
       "</table>\n",
       "</div>"
      ],
      "text/plain": [
       "                id_str  retweet_count  favorite_count  \\\n",
       "49  666835007768551424             65             183   \n",
       "\n",
       "                        created_at in_reply_to_status_id_str  \n",
       "49  Wed Nov 18 04:27:09 +0000 2015                      None  "
      ]
     },
     "execution_count": 11,
     "metadata": {},
     "output_type": "execute_result"
    }
   ],
   "source": [
    "# Reading the file and creating the Dataframe\n",
    "datas = []\n",
    "with open('tweet_json.txt') as file:\n",
    "    for line in file:\n",
    "        datas.append(json.loads(line))\n",
    "tweet_metrics = pd.json_normalize(datas)\n",
    "tweet_metrics.sample()"
   ]
  },
  {
   "cell_type": "markdown",
   "metadata": {
    "extensions": {
     "jupyter_dashboards": {
      "version": 1,
      "views": {
       "grid_default": {
        "col": 4,
        "height": 4,
        "hidden": false,
        "row": 28,
        "width": 4
       },
       "report_default": {
        "hidden": false
       }
      }
     }
    }
   },
   "source": [
    "## Assessing Data\n",
    "In this section, we will detect and document at least **eight (8) quality issues and two (2) tidiness issue** using **both** visual assessment and programmatic assessement to assess the data."
   ]
  },
  {
   "cell_type": "markdown",
   "metadata": {},
   "source": [
    "### Visual evaluations"
   ]
  },
  {
   "cell_type": "code",
   "execution_count": 12,
   "metadata": {},
   "outputs": [
    {
     "data": {
      "text/html": [
       "<div>\n",
       "<style scoped>\n",
       "    .dataframe tbody tr th:only-of-type {\n",
       "        vertical-align: middle;\n",
       "    }\n",
       "\n",
       "    .dataframe tbody tr th {\n",
       "        vertical-align: top;\n",
       "    }\n",
       "\n",
       "    .dataframe thead th {\n",
       "        text-align: right;\n",
       "    }\n",
       "</style>\n",
       "<table border=\"1\" class=\"dataframe\">\n",
       "  <thead>\n",
       "    <tr style=\"text-align: right;\">\n",
       "      <th></th>\n",
       "      <th>tweet_id</th>\n",
       "      <th>in_reply_to_status_id</th>\n",
       "      <th>in_reply_to_user_id</th>\n",
       "      <th>timestamp</th>\n",
       "      <th>source</th>\n",
       "      <th>text</th>\n",
       "      <th>retweeted_status_id</th>\n",
       "      <th>retweeted_status_user_id</th>\n",
       "      <th>retweeted_status_timestamp</th>\n",
       "      <th>expanded_urls</th>\n",
       "      <th>rating_numerator</th>\n",
       "      <th>rating_denominator</th>\n",
       "      <th>name</th>\n",
       "      <th>doggo</th>\n",
       "      <th>floofer</th>\n",
       "      <th>pupper</th>\n",
       "      <th>puppo</th>\n",
       "    </tr>\n",
       "  </thead>\n",
       "  <tbody>\n",
       "    <tr>\n",
       "      <th>163</th>\n",
       "      <td>860276583193509888</td>\n",
       "      <td>NaN</td>\n",
       "      <td>NaN</td>\n",
       "      <td>2017-05-04 23:34:55 +0000</td>\n",
       "      <td>&lt;a href=\"http://twitter.com/download/iphone\" r...</td>\n",
       "      <td>This is Jordy. He likes to go on adventures an...</td>\n",
       "      <td>NaN</td>\n",
       "      <td>NaN</td>\n",
       "      <td>NaN</td>\n",
       "      <td>https://twitter.com/dog_rates/status/860276583...</td>\n",
       "      <td>12</td>\n",
       "      <td>10</td>\n",
       "      <td>Jordy</td>\n",
       "      <td>None</td>\n",
       "      <td>None</td>\n",
       "      <td>None</td>\n",
       "      <td>None</td>\n",
       "    </tr>\n",
       "    <tr>\n",
       "      <th>1260</th>\n",
       "      <td>710269109699739648</td>\n",
       "      <td>NaN</td>\n",
       "      <td>NaN</td>\n",
       "      <td>2016-03-17 00:58:46 +0000</td>\n",
       "      <td>&lt;a href=\"http://twitter.com/download/iphone\" r...</td>\n",
       "      <td>The squad is back for St. Patrick's Day! ☘ 💚\\n...</td>\n",
       "      <td>NaN</td>\n",
       "      <td>NaN</td>\n",
       "      <td>NaN</td>\n",
       "      <td>https://twitter.com/dog_rates/status/710269109...</td>\n",
       "      <td>13</td>\n",
       "      <td>10</td>\n",
       "      <td>None</td>\n",
       "      <td>None</td>\n",
       "      <td>None</td>\n",
       "      <td>None</td>\n",
       "      <td>None</td>\n",
       "    </tr>\n",
       "    <tr>\n",
       "      <th>1163</th>\n",
       "      <td>723673163800948736</td>\n",
       "      <td>NaN</td>\n",
       "      <td>NaN</td>\n",
       "      <td>2016-04-23 00:41:42 +0000</td>\n",
       "      <td>&lt;a href=\"http://twitter.com/download/iphone\" r...</td>\n",
       "      <td>This is Ivar. She is a badass Viking warrior. ...</td>\n",
       "      <td>NaN</td>\n",
       "      <td>NaN</td>\n",
       "      <td>NaN</td>\n",
       "      <td>https://twitter.com/dog_rates/status/723673163...</td>\n",
       "      <td>10</td>\n",
       "      <td>10</td>\n",
       "      <td>Ivar</td>\n",
       "      <td>None</td>\n",
       "      <td>None</td>\n",
       "      <td>None</td>\n",
       "      <td>None</td>\n",
       "    </tr>\n",
       "    <tr>\n",
       "      <th>4</th>\n",
       "      <td>891327558926688256</td>\n",
       "      <td>NaN</td>\n",
       "      <td>NaN</td>\n",
       "      <td>2017-07-29 16:00:24 +0000</td>\n",
       "      <td>&lt;a href=\"http://twitter.com/download/iphone\" r...</td>\n",
       "      <td>This is Franklin. He would like you to stop ca...</td>\n",
       "      <td>NaN</td>\n",
       "      <td>NaN</td>\n",
       "      <td>NaN</td>\n",
       "      <td>https://twitter.com/dog_rates/status/891327558...</td>\n",
       "      <td>12</td>\n",
       "      <td>10</td>\n",
       "      <td>Franklin</td>\n",
       "      <td>None</td>\n",
       "      <td>None</td>\n",
       "      <td>None</td>\n",
       "      <td>None</td>\n",
       "    </tr>\n",
       "    <tr>\n",
       "      <th>2079</th>\n",
       "      <td>670826280409919488</td>\n",
       "      <td>NaN</td>\n",
       "      <td>NaN</td>\n",
       "      <td>2015-11-29 04:47:03 +0000</td>\n",
       "      <td>&lt;a href=\"http://twitter.com/download/iphone\" r...</td>\n",
       "      <td>Scary dog here. Too many legs. Extra tail. Not...</td>\n",
       "      <td>NaN</td>\n",
       "      <td>NaN</td>\n",
       "      <td>NaN</td>\n",
       "      <td>https://twitter.com/dog_rates/status/670826280...</td>\n",
       "      <td>2</td>\n",
       "      <td>10</td>\n",
       "      <td>None</td>\n",
       "      <td>None</td>\n",
       "      <td>None</td>\n",
       "      <td>None</td>\n",
       "      <td>None</td>\n",
       "    </tr>\n",
       "    <tr>\n",
       "      <th>827</th>\n",
       "      <td>769212283578875904</td>\n",
       "      <td>NaN</td>\n",
       "      <td>NaN</td>\n",
       "      <td>2016-08-26 16:37:54 +0000</td>\n",
       "      <td>&lt;a href=\"http://twitter.com/download/iphone\" r...</td>\n",
       "      <td>This is DonDon. He's way up but doesn't feel b...</td>\n",
       "      <td>NaN</td>\n",
       "      <td>NaN</td>\n",
       "      <td>NaN</td>\n",
       "      <td>https://twitter.com/dog_rates/status/769212283...</td>\n",
       "      <td>12</td>\n",
       "      <td>10</td>\n",
       "      <td>DonDon</td>\n",
       "      <td>None</td>\n",
       "      <td>None</td>\n",
       "      <td>None</td>\n",
       "      <td>None</td>\n",
       "    </tr>\n",
       "    <tr>\n",
       "      <th>913</th>\n",
       "      <td>757400162377592832</td>\n",
       "      <td>NaN</td>\n",
       "      <td>NaN</td>\n",
       "      <td>2016-07-25 02:20:45 +0000</td>\n",
       "      <td>&lt;a href=\"http://twitter.com/download/iphone\" r...</td>\n",
       "      <td>She walks herself up and down the train to be ...</td>\n",
       "      <td>NaN</td>\n",
       "      <td>NaN</td>\n",
       "      <td>NaN</td>\n",
       "      <td>https://twitter.com/dog_rates/status/757400162...</td>\n",
       "      <td>13</td>\n",
       "      <td>10</td>\n",
       "      <td>None</td>\n",
       "      <td>None</td>\n",
       "      <td>None</td>\n",
       "      <td>None</td>\n",
       "      <td>None</td>\n",
       "    </tr>\n",
       "    <tr>\n",
       "      <th>2352</th>\n",
       "      <td>666044226329800704</td>\n",
       "      <td>NaN</td>\n",
       "      <td>NaN</td>\n",
       "      <td>2015-11-16 00:04:52 +0000</td>\n",
       "      <td>&lt;a href=\"http://twitter.com/download/iphone\" r...</td>\n",
       "      <td>This is a purebred Piers Morgan. Loves to Netf...</td>\n",
       "      <td>NaN</td>\n",
       "      <td>NaN</td>\n",
       "      <td>NaN</td>\n",
       "      <td>https://twitter.com/dog_rates/status/666044226...</td>\n",
       "      <td>6</td>\n",
       "      <td>10</td>\n",
       "      <td>a</td>\n",
       "      <td>None</td>\n",
       "      <td>None</td>\n",
       "      <td>None</td>\n",
       "      <td>None</td>\n",
       "    </tr>\n",
       "    <tr>\n",
       "      <th>807</th>\n",
       "      <td>771908950375665664</td>\n",
       "      <td>NaN</td>\n",
       "      <td>NaN</td>\n",
       "      <td>2016-09-03 03:13:29 +0000</td>\n",
       "      <td>&lt;a href=\"http://twitter.com/download/iphone\" r...</td>\n",
       "      <td>Doggo will persevere. 13/10\\nhttps://t.co/yOVz...</td>\n",
       "      <td>NaN</td>\n",
       "      <td>NaN</td>\n",
       "      <td>NaN</td>\n",
       "      <td>https://twitter.com/yahoonews/status/771905568...</td>\n",
       "      <td>13</td>\n",
       "      <td>10</td>\n",
       "      <td>None</td>\n",
       "      <td>doggo</td>\n",
       "      <td>None</td>\n",
       "      <td>None</td>\n",
       "      <td>None</td>\n",
       "    </tr>\n",
       "    <tr>\n",
       "      <th>1724</th>\n",
       "      <td>680085611152338944</td>\n",
       "      <td>NaN</td>\n",
       "      <td>NaN</td>\n",
       "      <td>2015-12-24 18:00:19 +0000</td>\n",
       "      <td>&lt;a href=\"https://about.twitter.com/products/tw...</td>\n",
       "      <td>This is by far the most coordinated series of ...</td>\n",
       "      <td>NaN</td>\n",
       "      <td>NaN</td>\n",
       "      <td>NaN</td>\n",
       "      <td>https://twitter.com/dog_rates/status/680085611...</td>\n",
       "      <td>12</td>\n",
       "      <td>10</td>\n",
       "      <td>by</td>\n",
       "      <td>None</td>\n",
       "      <td>None</td>\n",
       "      <td>None</td>\n",
       "      <td>None</td>\n",
       "    </tr>\n",
       "  </tbody>\n",
       "</table>\n",
       "</div>"
      ],
      "text/plain": [
       "                tweet_id  in_reply_to_status_id  in_reply_to_user_id  \\\n",
       "163   860276583193509888                    NaN                  NaN   \n",
       "1260  710269109699739648                    NaN                  NaN   \n",
       "1163  723673163800948736                    NaN                  NaN   \n",
       "4     891327558926688256                    NaN                  NaN   \n",
       "2079  670826280409919488                    NaN                  NaN   \n",
       "827   769212283578875904                    NaN                  NaN   \n",
       "913   757400162377592832                    NaN                  NaN   \n",
       "2352  666044226329800704                    NaN                  NaN   \n",
       "807   771908950375665664                    NaN                  NaN   \n",
       "1724  680085611152338944                    NaN                  NaN   \n",
       "\n",
       "                      timestamp  \\\n",
       "163   2017-05-04 23:34:55 +0000   \n",
       "1260  2016-03-17 00:58:46 +0000   \n",
       "1163  2016-04-23 00:41:42 +0000   \n",
       "4     2017-07-29 16:00:24 +0000   \n",
       "2079  2015-11-29 04:47:03 +0000   \n",
       "827   2016-08-26 16:37:54 +0000   \n",
       "913   2016-07-25 02:20:45 +0000   \n",
       "2352  2015-11-16 00:04:52 +0000   \n",
       "807   2016-09-03 03:13:29 +0000   \n",
       "1724  2015-12-24 18:00:19 +0000   \n",
       "\n",
       "                                                 source  \\\n",
       "163   <a href=\"http://twitter.com/download/iphone\" r...   \n",
       "1260  <a href=\"http://twitter.com/download/iphone\" r...   \n",
       "1163  <a href=\"http://twitter.com/download/iphone\" r...   \n",
       "4     <a href=\"http://twitter.com/download/iphone\" r...   \n",
       "2079  <a href=\"http://twitter.com/download/iphone\" r...   \n",
       "827   <a href=\"http://twitter.com/download/iphone\" r...   \n",
       "913   <a href=\"http://twitter.com/download/iphone\" r...   \n",
       "2352  <a href=\"http://twitter.com/download/iphone\" r...   \n",
       "807   <a href=\"http://twitter.com/download/iphone\" r...   \n",
       "1724  <a href=\"https://about.twitter.com/products/tw...   \n",
       "\n",
       "                                                   text  retweeted_status_id  \\\n",
       "163   This is Jordy. He likes to go on adventures an...                  NaN   \n",
       "1260  The squad is back for St. Patrick's Day! ☘ 💚\\n...                  NaN   \n",
       "1163  This is Ivar. She is a badass Viking warrior. ...                  NaN   \n",
       "4     This is Franklin. He would like you to stop ca...                  NaN   \n",
       "2079  Scary dog here. Too many legs. Extra tail. Not...                  NaN   \n",
       "827   This is DonDon. He's way up but doesn't feel b...                  NaN   \n",
       "913   She walks herself up and down the train to be ...                  NaN   \n",
       "2352  This is a purebred Piers Morgan. Loves to Netf...                  NaN   \n",
       "807   Doggo will persevere. 13/10\\nhttps://t.co/yOVz...                  NaN   \n",
       "1724  This is by far the most coordinated series of ...                  NaN   \n",
       "\n",
       "      retweeted_status_user_id retweeted_status_timestamp  \\\n",
       "163                        NaN                        NaN   \n",
       "1260                       NaN                        NaN   \n",
       "1163                       NaN                        NaN   \n",
       "4                          NaN                        NaN   \n",
       "2079                       NaN                        NaN   \n",
       "827                        NaN                        NaN   \n",
       "913                        NaN                        NaN   \n",
       "2352                       NaN                        NaN   \n",
       "807                        NaN                        NaN   \n",
       "1724                       NaN                        NaN   \n",
       "\n",
       "                                          expanded_urls  rating_numerator  \\\n",
       "163   https://twitter.com/dog_rates/status/860276583...                12   \n",
       "1260  https://twitter.com/dog_rates/status/710269109...                13   \n",
       "1163  https://twitter.com/dog_rates/status/723673163...                10   \n",
       "4     https://twitter.com/dog_rates/status/891327558...                12   \n",
       "2079  https://twitter.com/dog_rates/status/670826280...                 2   \n",
       "827   https://twitter.com/dog_rates/status/769212283...                12   \n",
       "913   https://twitter.com/dog_rates/status/757400162...                13   \n",
       "2352  https://twitter.com/dog_rates/status/666044226...                 6   \n",
       "807   https://twitter.com/yahoonews/status/771905568...                13   \n",
       "1724  https://twitter.com/dog_rates/status/680085611...                12   \n",
       "\n",
       "      rating_denominator      name  doggo floofer pupper puppo  \n",
       "163                   10     Jordy   None    None   None  None  \n",
       "1260                  10      None   None    None   None  None  \n",
       "1163                  10      Ivar   None    None   None  None  \n",
       "4                     10  Franklin   None    None   None  None  \n",
       "2079                  10      None   None    None   None  None  \n",
       "827                   10    DonDon   None    None   None  None  \n",
       "913                   10      None   None    None   None  None  \n",
       "2352                  10         a   None    None   None  None  \n",
       "807                   10      None  doggo    None   None  None  \n",
       "1724                  10        by   None    None   None  None  "
      ]
     },
     "execution_count": 12,
     "metadata": {},
     "output_type": "execute_result"
    }
   ],
   "source": [
    "# Visual evaluation of twitter_archive\n",
    "twitter_archive.sample(10)"
   ]
  },
  {
   "cell_type": "code",
   "execution_count": 13,
   "metadata": {
    "scrolled": true
   },
   "outputs": [
    {
     "data": {
      "text/html": [
       "<div>\n",
       "<style scoped>\n",
       "    .dataframe tbody tr th:only-of-type {\n",
       "        vertical-align: middle;\n",
       "    }\n",
       "\n",
       "    .dataframe tbody tr th {\n",
       "        vertical-align: top;\n",
       "    }\n",
       "\n",
       "    .dataframe thead th {\n",
       "        text-align: right;\n",
       "    }\n",
       "</style>\n",
       "<table border=\"1\" class=\"dataframe\">\n",
       "  <thead>\n",
       "    <tr style=\"text-align: right;\">\n",
       "      <th></th>\n",
       "      <th>tweet_id</th>\n",
       "      <th>jpg_url</th>\n",
       "      <th>img_num</th>\n",
       "      <th>p1</th>\n",
       "      <th>p1_conf</th>\n",
       "      <th>p1_dog</th>\n",
       "      <th>p2</th>\n",
       "      <th>p2_conf</th>\n",
       "      <th>p2_dog</th>\n",
       "      <th>p3</th>\n",
       "      <th>p3_conf</th>\n",
       "      <th>p3_dog</th>\n",
       "    </tr>\n",
       "  </thead>\n",
       "  <tbody>\n",
       "    <tr>\n",
       "      <th>538</th>\n",
       "      <td>676949632774234114</td>\n",
       "      <td>https://pbs.twimg.com/media/CWUCGMtWEAAjXnS.jpg</td>\n",
       "      <td>1</td>\n",
       "      <td>Welsh_springer_spaniel</td>\n",
       "      <td>0.206479</td>\n",
       "      <td>True</td>\n",
       "      <td>Saint_Bernard</td>\n",
       "      <td>0.139339</td>\n",
       "      <td>True</td>\n",
       "      <td>boxer</td>\n",
       "      <td>0.114606</td>\n",
       "      <td>True</td>\n",
       "    </tr>\n",
       "    <tr>\n",
       "      <th>1698</th>\n",
       "      <td>816816676327063552</td>\n",
       "      <td>https://pbs.twimg.com/media/C1XqbhXXUAElpfI.jpg</td>\n",
       "      <td>1</td>\n",
       "      <td>malamute</td>\n",
       "      <td>0.668164</td>\n",
       "      <td>True</td>\n",
       "      <td>Pembroke</td>\n",
       "      <td>0.105033</td>\n",
       "      <td>True</td>\n",
       "      <td>Siberian_husky</td>\n",
       "      <td>0.077875</td>\n",
       "      <td>True</td>\n",
       "    </tr>\n",
       "    <tr>\n",
       "      <th>836</th>\n",
       "      <td>694206574471057408</td>\n",
       "      <td>https://pbs.twimg.com/media/CaJRMPQWIAA1zL9.jpg</td>\n",
       "      <td>1</td>\n",
       "      <td>Shih-Tzu</td>\n",
       "      <td>0.352547</td>\n",
       "      <td>True</td>\n",
       "      <td>toy_poodle</td>\n",
       "      <td>0.155720</td>\n",
       "      <td>True</td>\n",
       "      <td>Maltese_dog</td>\n",
       "      <td>0.116657</td>\n",
       "      <td>True</td>\n",
       "    </tr>\n",
       "    <tr>\n",
       "      <th>2067</th>\n",
       "      <td>890729181411237888</td>\n",
       "      <td>https://pbs.twimg.com/media/DFyBahAVwAAhUTd.jpg</td>\n",
       "      <td>2</td>\n",
       "      <td>Pomeranian</td>\n",
       "      <td>0.566142</td>\n",
       "      <td>True</td>\n",
       "      <td>Eskimo_dog</td>\n",
       "      <td>0.178406</td>\n",
       "      <td>True</td>\n",
       "      <td>Pembroke</td>\n",
       "      <td>0.076507</td>\n",
       "      <td>True</td>\n",
       "    </tr>\n",
       "    <tr>\n",
       "      <th>890</th>\n",
       "      <td>699323444782047232</td>\n",
       "      <td>https://pbs.twimg.com/media/CbR-9edXIAEHJKi.jpg</td>\n",
       "      <td>1</td>\n",
       "      <td>Labrador_retriever</td>\n",
       "      <td>0.309696</td>\n",
       "      <td>True</td>\n",
       "      <td>doormat</td>\n",
       "      <td>0.303700</td>\n",
       "      <td>False</td>\n",
       "      <td>sliding_door</td>\n",
       "      <td>0.077266</td>\n",
       "      <td>False</td>\n",
       "    </tr>\n",
       "    <tr>\n",
       "      <th>339</th>\n",
       "      <td>672245253877968896</td>\n",
       "      <td>https://pbs.twimg.com/media/CVRLfeoW4AA_ldZ.jpg</td>\n",
       "      <td>1</td>\n",
       "      <td>Chihuahua</td>\n",
       "      <td>0.718944</td>\n",
       "      <td>True</td>\n",
       "      <td>badger</td>\n",
       "      <td>0.178546</td>\n",
       "      <td>False</td>\n",
       "      <td>toy_terrier</td>\n",
       "      <td>0.037103</td>\n",
       "      <td>True</td>\n",
       "    </tr>\n",
       "    <tr>\n",
       "      <th>1458</th>\n",
       "      <td>777885040357281792</td>\n",
       "      <td>https://pbs.twimg.com/media/CsuaUH2WAAAWJh1.jpg</td>\n",
       "      <td>1</td>\n",
       "      <td>Afghan_hound</td>\n",
       "      <td>0.123529</td>\n",
       "      <td>True</td>\n",
       "      <td>basset</td>\n",
       "      <td>0.119682</td>\n",
       "      <td>True</td>\n",
       "      <td>Siberian_husky</td>\n",
       "      <td>0.108709</td>\n",
       "      <td>True</td>\n",
       "    </tr>\n",
       "    <tr>\n",
       "      <th>1129</th>\n",
       "      <td>728015554473250816</td>\n",
       "      <td>https://pbs.twimg.com/media/ChpuRyvVAAARMoq.jpg</td>\n",
       "      <td>1</td>\n",
       "      <td>cocker_spaniel</td>\n",
       "      <td>0.384559</td>\n",
       "      <td>True</td>\n",
       "      <td>golden_retriever</td>\n",
       "      <td>0.091661</td>\n",
       "      <td>True</td>\n",
       "      <td>sandbar</td>\n",
       "      <td>0.081799</td>\n",
       "      <td>False</td>\n",
       "    </tr>\n",
       "    <tr>\n",
       "      <th>1786</th>\n",
       "      <td>829449946868879360</td>\n",
       "      <td>https://pbs.twimg.com/media/C4LMUf8WYAkWz4I.jpg</td>\n",
       "      <td>1</td>\n",
       "      <td>Labrador_retriever</td>\n",
       "      <td>0.315163</td>\n",
       "      <td>True</td>\n",
       "      <td>golden_retriever</td>\n",
       "      <td>0.153210</td>\n",
       "      <td>True</td>\n",
       "      <td>Pekinese</td>\n",
       "      <td>0.132791</td>\n",
       "      <td>True</td>\n",
       "    </tr>\n",
       "    <tr>\n",
       "      <th>1172</th>\n",
       "      <td>736736130620620800</td>\n",
       "      <td>https://pbs.twimg.com/media/CjlpmZaUgAED54W.jpg</td>\n",
       "      <td>1</td>\n",
       "      <td>schipperke</td>\n",
       "      <td>0.545502</td>\n",
       "      <td>True</td>\n",
       "      <td>groenendael</td>\n",
       "      <td>0.298622</td>\n",
       "      <td>True</td>\n",
       "      <td>Labrador_retriever</td>\n",
       "      <td>0.030986</td>\n",
       "      <td>True</td>\n",
       "    </tr>\n",
       "  </tbody>\n",
       "</table>\n",
       "</div>"
      ],
      "text/plain": [
       "                tweet_id                                          jpg_url  \\\n",
       "538   676949632774234114  https://pbs.twimg.com/media/CWUCGMtWEAAjXnS.jpg   \n",
       "1698  816816676327063552  https://pbs.twimg.com/media/C1XqbhXXUAElpfI.jpg   \n",
       "836   694206574471057408  https://pbs.twimg.com/media/CaJRMPQWIAA1zL9.jpg   \n",
       "2067  890729181411237888  https://pbs.twimg.com/media/DFyBahAVwAAhUTd.jpg   \n",
       "890   699323444782047232  https://pbs.twimg.com/media/CbR-9edXIAEHJKi.jpg   \n",
       "339   672245253877968896  https://pbs.twimg.com/media/CVRLfeoW4AA_ldZ.jpg   \n",
       "1458  777885040357281792  https://pbs.twimg.com/media/CsuaUH2WAAAWJh1.jpg   \n",
       "1129  728015554473250816  https://pbs.twimg.com/media/ChpuRyvVAAARMoq.jpg   \n",
       "1786  829449946868879360  https://pbs.twimg.com/media/C4LMUf8WYAkWz4I.jpg   \n",
       "1172  736736130620620800  https://pbs.twimg.com/media/CjlpmZaUgAED54W.jpg   \n",
       "\n",
       "      img_num                      p1   p1_conf  p1_dog                p2  \\\n",
       "538         1  Welsh_springer_spaniel  0.206479    True     Saint_Bernard   \n",
       "1698        1                malamute  0.668164    True          Pembroke   \n",
       "836         1                Shih-Tzu  0.352547    True        toy_poodle   \n",
       "2067        2              Pomeranian  0.566142    True        Eskimo_dog   \n",
       "890         1      Labrador_retriever  0.309696    True           doormat   \n",
       "339         1               Chihuahua  0.718944    True            badger   \n",
       "1458        1            Afghan_hound  0.123529    True            basset   \n",
       "1129        1          cocker_spaniel  0.384559    True  golden_retriever   \n",
       "1786        1      Labrador_retriever  0.315163    True  golden_retriever   \n",
       "1172        1              schipperke  0.545502    True       groenendael   \n",
       "\n",
       "       p2_conf  p2_dog                  p3   p3_conf  p3_dog  \n",
       "538   0.139339    True               boxer  0.114606    True  \n",
       "1698  0.105033    True      Siberian_husky  0.077875    True  \n",
       "836   0.155720    True         Maltese_dog  0.116657    True  \n",
       "2067  0.178406    True            Pembroke  0.076507    True  \n",
       "890   0.303700   False        sliding_door  0.077266   False  \n",
       "339   0.178546   False         toy_terrier  0.037103    True  \n",
       "1458  0.119682    True      Siberian_husky  0.108709    True  \n",
       "1129  0.091661    True             sandbar  0.081799   False  \n",
       "1786  0.153210    True            Pekinese  0.132791    True  \n",
       "1172  0.298622    True  Labrador_retriever  0.030986    True  "
      ]
     },
     "execution_count": 13,
     "metadata": {},
     "output_type": "execute_result"
    }
   ],
   "source": [
    "# Visual evaluation of image_predictions\n",
    "image_predictions.sample(10)"
   ]
  },
  {
   "cell_type": "markdown",
   "metadata": {},
   "source": [
    "### Programmatic evaluations"
   ]
  },
  {
   "cell_type": "code",
   "execution_count": 14,
   "metadata": {
    "scrolled": false
   },
   "outputs": [
    {
     "name": "stdout",
     "output_type": "stream",
     "text": [
      "<class 'pandas.core.frame.DataFrame'>\n",
      "RangeIndex: 2356 entries, 0 to 2355\n",
      "Data columns (total 17 columns):\n",
      " #   Column                      Non-Null Count  Dtype  \n",
      "---  ------                      --------------  -----  \n",
      " 0   tweet_id                    2356 non-null   int64  \n",
      " 1   in_reply_to_status_id       78 non-null     float64\n",
      " 2   in_reply_to_user_id         78 non-null     float64\n",
      " 3   timestamp                   2356 non-null   object \n",
      " 4   source                      2356 non-null   object \n",
      " 5   text                        2356 non-null   object \n",
      " 6   retweeted_status_id         181 non-null    float64\n",
      " 7   retweeted_status_user_id    181 non-null    float64\n",
      " 8   retweeted_status_timestamp  181 non-null    object \n",
      " 9   expanded_urls               2297 non-null   object \n",
      " 10  rating_numerator            2356 non-null   int64  \n",
      " 11  rating_denominator          2356 non-null   int64  \n",
      " 12  name                        2356 non-null   object \n",
      " 13  doggo                       2356 non-null   object \n",
      " 14  floofer                     2356 non-null   object \n",
      " 15  pupper                      2356 non-null   object \n",
      " 16  puppo                       2356 non-null   object \n",
      "dtypes: float64(4), int64(3), object(10)\n",
      "memory usage: 313.0+ KB\n"
     ]
    }
   ],
   "source": [
    "# Programmatic evaluation of `twitter_archive`\n",
    "twitter_archive.info()"
   ]
  },
  {
   "cell_type": "code",
   "execution_count": 15,
   "metadata": {
    "scrolled": true
   },
   "outputs": [
    {
     "data": {
      "text/plain": [
       "count    2356.000000\n",
       "mean       13.126486\n",
       "std        45.876648\n",
       "min         0.000000\n",
       "25%        10.000000\n",
       "50%        11.000000\n",
       "75%        12.000000\n",
       "max      1776.000000\n",
       "Name: rating_numerator, dtype: float64"
      ]
     },
     "execution_count": 15,
     "metadata": {},
     "output_type": "execute_result"
    }
   ],
   "source": [
    "twitter_archive.rating_numerator.describe()"
   ]
  },
  {
   "cell_type": "code",
   "execution_count": 16,
   "metadata": {
    "scrolled": true
   },
   "outputs": [
    {
     "data": {
      "text/html": [
       "<div>\n",
       "<style scoped>\n",
       "    .dataframe tbody tr th:only-of-type {\n",
       "        vertical-align: middle;\n",
       "    }\n",
       "\n",
       "    .dataframe tbody tr th {\n",
       "        vertical-align: top;\n",
       "    }\n",
       "\n",
       "    .dataframe thead th {\n",
       "        text-align: right;\n",
       "    }\n",
       "</style>\n",
       "<table border=\"1\" class=\"dataframe\">\n",
       "  <thead>\n",
       "    <tr style=\"text-align: right;\">\n",
       "      <th></th>\n",
       "      <th>tweet_id</th>\n",
       "      <th>in_reply_to_status_id</th>\n",
       "      <th>in_reply_to_user_id</th>\n",
       "      <th>timestamp</th>\n",
       "      <th>source</th>\n",
       "      <th>text</th>\n",
       "      <th>retweeted_status_id</th>\n",
       "      <th>retweeted_status_user_id</th>\n",
       "      <th>retweeted_status_timestamp</th>\n",
       "      <th>expanded_urls</th>\n",
       "      <th>rating_numerator</th>\n",
       "      <th>rating_denominator</th>\n",
       "      <th>name</th>\n",
       "      <th>doggo</th>\n",
       "      <th>floofer</th>\n",
       "      <th>pupper</th>\n",
       "      <th>puppo</th>\n",
       "    </tr>\n",
       "  </thead>\n",
       "  <tbody>\n",
       "    <tr>\n",
       "      <th>315</th>\n",
       "      <td>835152434251116546</td>\n",
       "      <td>NaN</td>\n",
       "      <td>NaN</td>\n",
       "      <td>2017-02-24 15:40:31 +0000</td>\n",
       "      <td>&lt;a href=\"http://twitter.com/download/iphone\" r...</td>\n",
       "      <td>When you're so blinded by your systematic plag...</td>\n",
       "      <td>NaN</td>\n",
       "      <td>NaN</td>\n",
       "      <td>NaN</td>\n",
       "      <td>https://twitter.com/dog_rates/status/835152434...</td>\n",
       "      <td>0</td>\n",
       "      <td>10</td>\n",
       "      <td>None</td>\n",
       "      <td>None</td>\n",
       "      <td>None</td>\n",
       "      <td>None</td>\n",
       "      <td>None</td>\n",
       "    </tr>\n",
       "    <tr>\n",
       "      <th>1016</th>\n",
       "      <td>746906459439529985</td>\n",
       "      <td>7.468859e+17</td>\n",
       "      <td>4.196984e+09</td>\n",
       "      <td>2016-06-26 03:22:31 +0000</td>\n",
       "      <td>&lt;a href=\"http://twitter.com/download/iphone\" r...</td>\n",
       "      <td>PUPDATE: can't see any. Even if I could, I cou...</td>\n",
       "      <td>NaN</td>\n",
       "      <td>NaN</td>\n",
       "      <td>NaN</td>\n",
       "      <td>https://twitter.com/dog_rates/status/746906459...</td>\n",
       "      <td>0</td>\n",
       "      <td>10</td>\n",
       "      <td>None</td>\n",
       "      <td>None</td>\n",
       "      <td>None</td>\n",
       "      <td>None</td>\n",
       "      <td>None</td>\n",
       "    </tr>\n",
       "  </tbody>\n",
       "</table>\n",
       "</div>"
      ],
      "text/plain": [
       "                tweet_id  in_reply_to_status_id  in_reply_to_user_id  \\\n",
       "315   835152434251116546                    NaN                  NaN   \n",
       "1016  746906459439529985           7.468859e+17         4.196984e+09   \n",
       "\n",
       "                      timestamp  \\\n",
       "315   2017-02-24 15:40:31 +0000   \n",
       "1016  2016-06-26 03:22:31 +0000   \n",
       "\n",
       "                                                 source  \\\n",
       "315   <a href=\"http://twitter.com/download/iphone\" r...   \n",
       "1016  <a href=\"http://twitter.com/download/iphone\" r...   \n",
       "\n",
       "                                                   text  retweeted_status_id  \\\n",
       "315   When you're so blinded by your systematic plag...                  NaN   \n",
       "1016  PUPDATE: can't see any. Even if I could, I cou...                  NaN   \n",
       "\n",
       "      retweeted_status_user_id retweeted_status_timestamp  \\\n",
       "315                        NaN                        NaN   \n",
       "1016                       NaN                        NaN   \n",
       "\n",
       "                                          expanded_urls  rating_numerator  \\\n",
       "315   https://twitter.com/dog_rates/status/835152434...                 0   \n",
       "1016  https://twitter.com/dog_rates/status/746906459...                 0   \n",
       "\n",
       "      rating_denominator  name doggo floofer pupper puppo  \n",
       "315                   10  None  None    None   None  None  \n",
       "1016                  10  None  None    None   None  None  "
      ]
     },
     "execution_count": 16,
     "metadata": {},
     "output_type": "execute_result"
    }
   ],
   "source": [
    "# Explore the line with a 0 for numerator\n",
    "twitter_archive.query('rating_numerator == 0')"
   ]
  },
  {
   "cell_type": "code",
   "execution_count": 17,
   "metadata": {
    "scrolled": false
   },
   "outputs": [
    {
     "data": {
      "text/plain": [
       "count    2356.000000\n",
       "mean       10.455433\n",
       "std         6.745237\n",
       "min         0.000000\n",
       "25%        10.000000\n",
       "50%        10.000000\n",
       "75%        10.000000\n",
       "max       170.000000\n",
       "Name: rating_denominator, dtype: float64"
      ]
     },
     "execution_count": 17,
     "metadata": {},
     "output_type": "execute_result"
    }
   ],
   "source": [
    "twitter_archive.rating_denominator.describe()"
   ]
  },
  {
   "cell_type": "code",
   "execution_count": 18,
   "metadata": {},
   "outputs": [
    {
     "data": {
      "text/plain": [
       "array([ 10,   0,  15,  70,   7,  11, 150, 170,  20,  50,  90,  80,  40,\n",
       "       130, 110,  16, 120,   2])"
      ]
     },
     "execution_count": 18,
     "metadata": {},
     "output_type": "execute_result"
    }
   ],
   "source": [
    "# Distinct values of rating_denominator\n",
    "twitter_archive.rating_denominator.unique()"
   ]
  },
  {
   "cell_type": "code",
   "execution_count": 19,
   "metadata": {
    "scrolled": true
   },
   "outputs": [
    {
     "data": {
      "text/html": [
       "<div>\n",
       "<style scoped>\n",
       "    .dataframe tbody tr th:only-of-type {\n",
       "        vertical-align: middle;\n",
       "    }\n",
       "\n",
       "    .dataframe tbody tr th {\n",
       "        vertical-align: top;\n",
       "    }\n",
       "\n",
       "    .dataframe thead th {\n",
       "        text-align: right;\n",
       "    }\n",
       "</style>\n",
       "<table border=\"1\" class=\"dataframe\">\n",
       "  <thead>\n",
       "    <tr style=\"text-align: right;\">\n",
       "      <th></th>\n",
       "      <th>tweet_id</th>\n",
       "      <th>in_reply_to_status_id</th>\n",
       "      <th>in_reply_to_user_id</th>\n",
       "      <th>timestamp</th>\n",
       "      <th>source</th>\n",
       "      <th>text</th>\n",
       "      <th>retweeted_status_id</th>\n",
       "      <th>retweeted_status_user_id</th>\n",
       "      <th>retweeted_status_timestamp</th>\n",
       "      <th>expanded_urls</th>\n",
       "      <th>rating_numerator</th>\n",
       "      <th>rating_denominator</th>\n",
       "      <th>name</th>\n",
       "      <th>doggo</th>\n",
       "      <th>floofer</th>\n",
       "      <th>pupper</th>\n",
       "      <th>puppo</th>\n",
       "    </tr>\n",
       "  </thead>\n",
       "  <tbody>\n",
       "    <tr>\n",
       "      <th>313</th>\n",
       "      <td>835246439529840640</td>\n",
       "      <td>8.352460e+17</td>\n",
       "      <td>26259576.0</td>\n",
       "      <td>2017-02-24 21:54:03 +0000</td>\n",
       "      <td>&lt;a href=\"http://twitter.com/download/iphone\" r...</td>\n",
       "      <td>@jonnysun @Lin_Manuel ok jomny I know you're e...</td>\n",
       "      <td>NaN</td>\n",
       "      <td>NaN</td>\n",
       "      <td>NaN</td>\n",
       "      <td>NaN</td>\n",
       "      <td>960</td>\n",
       "      <td>0</td>\n",
       "      <td>None</td>\n",
       "      <td>None</td>\n",
       "      <td>None</td>\n",
       "      <td>None</td>\n",
       "      <td>None</td>\n",
       "    </tr>\n",
       "  </tbody>\n",
       "</table>\n",
       "</div>"
      ],
      "text/plain": [
       "               tweet_id  in_reply_to_status_id  in_reply_to_user_id  \\\n",
       "313  835246439529840640           8.352460e+17           26259576.0   \n",
       "\n",
       "                     timestamp  \\\n",
       "313  2017-02-24 21:54:03 +0000   \n",
       "\n",
       "                                                source  \\\n",
       "313  <a href=\"http://twitter.com/download/iphone\" r...   \n",
       "\n",
       "                                                  text  retweeted_status_id  \\\n",
       "313  @jonnysun @Lin_Manuel ok jomny I know you're e...                  NaN   \n",
       "\n",
       "     retweeted_status_user_id retweeted_status_timestamp expanded_urls  \\\n",
       "313                       NaN                        NaN           NaN   \n",
       "\n",
       "     rating_numerator  rating_denominator  name doggo floofer pupper puppo  \n",
       "313               960                   0  None  None    None   None  None  "
      ]
     },
     "execution_count": 19,
     "metadata": {},
     "output_type": "execute_result"
    }
   ],
   "source": [
    "# Explore the lines with denominator == 0\n",
    "twitter_archive.query('rating_denominator == 0')"
   ]
  },
  {
   "cell_type": "code",
   "execution_count": 20,
   "metadata": {},
   "outputs": [
    {
     "data": {
      "text/plain": [
       "0"
      ]
     },
     "execution_count": 20,
     "metadata": {},
     "output_type": "execute_result"
    }
   ],
   "source": [
    "# Looking for duplicated values\n",
    "twitter_archive.duplicated().sum()"
   ]
  },
  {
   "cell_type": "markdown",
   "metadata": {},
   "source": [
    "No duplicated lines found in the table `twitter_archive`"
   ]
  },
  {
   "cell_type": "code",
   "execution_count": 21,
   "metadata": {},
   "outputs": [
    {
     "data": {
      "text/plain": [
       "0"
      ]
     },
     "execution_count": 21,
     "metadata": {},
     "output_type": "execute_result"
    }
   ],
   "source": [
    "# Looking for duplicated tweet_id\n",
    "twitter_archive.tweet_id.duplicated().sum()"
   ]
  },
  {
   "cell_type": "markdown",
   "metadata": {},
   "source": [
    "No duplicated `tweet_id` found in the table `twitter_archive`"
   ]
  },
  {
   "cell_type": "code",
   "execution_count": 22,
   "metadata": {
    "scrolled": true
   },
   "outputs": [
    {
     "name": "stdout",
     "output_type": "stream",
     "text": [
      "<class 'pandas.core.frame.DataFrame'>\n",
      "RangeIndex: 2075 entries, 0 to 2074\n",
      "Data columns (total 12 columns):\n",
      " #   Column    Non-Null Count  Dtype  \n",
      "---  ------    --------------  -----  \n",
      " 0   tweet_id  2075 non-null   int64  \n",
      " 1   jpg_url   2075 non-null   object \n",
      " 2   img_num   2075 non-null   int64  \n",
      " 3   p1        2075 non-null   object \n",
      " 4   p1_conf   2075 non-null   float64\n",
      " 5   p1_dog    2075 non-null   bool   \n",
      " 6   p2        2075 non-null   object \n",
      " 7   p2_conf   2075 non-null   float64\n",
      " 8   p2_dog    2075 non-null   bool   \n",
      " 9   p3        2075 non-null   object \n",
      " 10  p3_conf   2075 non-null   float64\n",
      " 11  p3_dog    2075 non-null   bool   \n",
      "dtypes: bool(3), float64(3), int64(2), object(4)\n",
      "memory usage: 152.1+ KB\n"
     ]
    }
   ],
   "source": [
    "# Programmatic evaluation of `image_predictions`\n",
    "image_predictions.info()"
   ]
  },
  {
   "cell_type": "code",
   "execution_count": 23,
   "metadata": {},
   "outputs": [
    {
     "data": {
      "text/plain": [
       "0"
      ]
     },
     "execution_count": 23,
     "metadata": {},
     "output_type": "execute_result"
    }
   ],
   "source": [
    "# Looking for duplicated values\n",
    "image_predictions.duplicated().sum()"
   ]
  },
  {
   "cell_type": "markdown",
   "metadata": {},
   "source": [
    "No duplicated values in the table `image_predictions`"
   ]
  },
  {
   "cell_type": "code",
   "execution_count": 24,
   "metadata": {},
   "outputs": [
    {
     "name": "stdout",
     "output_type": "stream",
     "text": [
      "<class 'pandas.core.frame.DataFrame'>\n",
      "RangeIndex: 2327 entries, 0 to 2326\n",
      "Data columns (total 5 columns):\n",
      " #   Column                     Non-Null Count  Dtype \n",
      "---  ------                     --------------  ----- \n",
      " 0   id_str                     2327 non-null   object\n",
      " 1   retweet_count              2327 non-null   int64 \n",
      " 2   favorite_count             2327 non-null   int64 \n",
      " 3   created_at                 2327 non-null   object\n",
      " 4   in_reply_to_status_id_str  77 non-null     object\n",
      "dtypes: int64(2), object(3)\n",
      "memory usage: 91.0+ KB\n"
     ]
    }
   ],
   "source": [
    "# Programmatic evaluation of `tweet_metrics`\n",
    "tweet_metrics.info()"
   ]
  },
  {
   "cell_type": "markdown",
   "metadata": {},
   "source": [
    "### Quality issues\n",
    "\n",
    "1. Missing data in columns `name`, `doggo`, `floofer`, `pupper` and `puppo` using the text `'None'` instead of `NaN`\n",
    "\n",
    "1. Dogs with `name` __\"a\", \"by\", \"an\", \"getting\"__ in column `twitter_archives.name`\n",
    "\n",
    "1. `expanded_url` in datatable `twitter_archives` containts repeated urls on a single line and also links from accounts other than __@dog_rates__\n",
    "\n",
    "1. Missing data in `expanded_url` in datatable `twitter_archives`\n",
    "\n",
    "1. Invalid dog rating in columns `rating_numerator` and `rating_denominator` read from the text of some tweets\n",
    "\n",
    "1. Agregated rating for pictures having more than 1 dog in it (204/170, 45/50, ...), not all ratings are done __/10__\n",
    "\n",
    "1. Invalid rating : some tweets have a `rating_denominator` which is not a multiple of 10, others have `0` as `rating_numerator` or `rating_denominator`\n",
    "\n",
    "1. Invalid data type for column `timestamp` and `retweeted_status_timestamp` of `twitter_archives` and `id_str` of `tweet_metrics`\n",
    "\n",
    "1. Inconsistent columns names between datatables : `created_at`, `id_str`, `in_reply_to_status_id_str` of `tweet_metrics`\n",
    "\n",
    "1. Missing data in table `image_predictions` : 2075 instead of 2356\n",
    "\n",
    "1. Some rows are only retweets or replies to existing rating tweets and others are not related to dog rating at all\n",
    "\n",
    "1. Missing dog species in `twitter_archive` table"
   ]
  },
  {
   "cell_type": "markdown",
   "metadata": {
    "extensions": {
     "jupyter_dashboards": {
      "version": 1,
      "views": {
       "grid_default": {
        "col": 0,
        "height": 7,
        "hidden": false,
        "row": 40,
        "width": 12
       },
       "report_default": {
        "hidden": false
       }
      }
     }
    }
   },
   "source": [
    "### Tidiness issues\n",
    "1. Dog stage information (1 variable) spread over 4 columns `doggo`, `floofer`, `pupper` and `puppo` in datatable `twitter_archives`\n",
    "\n",
    "2. Dog race and tweet counts located in separate tables"
   ]
  },
  {
   "cell_type": "markdown",
   "metadata": {
    "extensions": {
     "jupyter_dashboards": {
      "version": 1,
      "views": {
       "grid_default": {
        "col": 4,
        "height": 4,
        "hidden": false,
        "row": 32,
        "width": 4
       },
       "report_default": {
        "hidden": false
       }
      }
     }
    }
   },
   "source": [
    "## Cleaning Data\n",
    "In this section, we will clean **all** of the issues documented while assessing."
   ]
  },
  {
   "cell_type": "code",
   "execution_count": 25,
   "metadata": {},
   "outputs": [],
   "source": [
    "# Make copies of original pieces of data\n",
    "twitter_archive_clean = twitter_archive.copy()\n",
    "image_predictions_clean = image_predictions.copy()\n",
    "tweet_metrics_clean = tweet_metrics.copy()"
   ]
  },
  {
   "cell_type": "markdown",
   "metadata": {},
   "source": [
    "### Data type issues\n",
    "- Invalid data type for column `timestamp` and `retweeted_status_timestamp` of `twitter_archives` and `id_str` of `tweet_metrics`\n",
    "\n",
    "Columns containing date values is of type `object` instead of `datetime`.\n",
    "The `id_str` column extracted from json data is of type `str` instead of `int64`"
   ]
  },
  {
   "cell_type": "markdown",
   "metadata": {},
   "source": [
    "#### Define\n",
    "##### `twitter_archive` table\n",
    "- Change `timestamp` and `retweeted_status_timestamp` data type from `object` to `datetime`\n",
    "\n",
    "##### `tweet_metrics` table\n",
    "- Change `id_str` data type from `str` to `int64`"
   ]
  },
  {
   "cell_type": "markdown",
   "metadata": {},
   "source": [
    "#### Code"
   ]
  },
  {
   "cell_type": "code",
   "execution_count": 26,
   "metadata": {},
   "outputs": [],
   "source": [
    "# twitter_archive table\n",
    "twitter_archive_clean.timestamp = twitter_archive_clean.timestamp.astype('datetime64[ns]')\n",
    "twitter_archive_clean.retweeted_status_timestamp = twitter_archive_clean.retweeted_status_timestamp.astype('datetime64[ns]')\n",
    "\n",
    "# tweet_metrics table\n",
    "tweet_metrics_clean.id_str = tweet_metrics_clean.id_str.astype('int64')"
   ]
  },
  {
   "cell_type": "markdown",
   "metadata": {},
   "source": [
    "#### Test"
   ]
  },
  {
   "cell_type": "code",
   "execution_count": 27,
   "metadata": {},
   "outputs": [
    {
     "data": {
      "text/plain": [
       "dtype('<M8[ns]')"
      ]
     },
     "execution_count": 27,
     "metadata": {},
     "output_type": "execute_result"
    }
   ],
   "source": [
    "twitter_archive_clean.timestamp.dtypes"
   ]
  },
  {
   "cell_type": "code",
   "execution_count": 28,
   "metadata": {},
   "outputs": [
    {
     "data": {
      "text/plain": [
       "dtype('<M8[ns]')"
      ]
     },
     "execution_count": 28,
     "metadata": {},
     "output_type": "execute_result"
    }
   ],
   "source": [
    "twitter_archive_clean.retweeted_status_timestamp.dtypes"
   ]
  },
  {
   "cell_type": "code",
   "execution_count": 29,
   "metadata": {},
   "outputs": [
    {
     "data": {
      "text/plain": [
       "dtype('int64')"
      ]
     },
     "execution_count": 29,
     "metadata": {},
     "output_type": "execute_result"
    }
   ],
   "source": [
    "tweet_metrics_clean.id_str.dtypes"
   ]
  },
  {
   "cell_type": "markdown",
   "metadata": {},
   "source": [
    "### Column name issues\n",
    "- Inconsistent columns names between datatables : `created_at`, `id_str`, `in_reply_to_status_id_str` of `tweet_metrics`"
   ]
  },
  {
   "cell_type": "markdown",
   "metadata": {},
   "source": [
    "#### Define\n",
    "- Rename column in `tweet_metrics` for consistency `{'created_at': 'timestamp', 'id_str': 'tweet_id', 'in_reply_to_status_id_str': 'in_replay_to_status_id'}`"
   ]
  },
  {
   "cell_type": "markdown",
   "metadata": {},
   "source": [
    "#### Code"
   ]
  },
  {
   "cell_type": "code",
   "execution_count": 30,
   "metadata": {},
   "outputs": [],
   "source": [
    "tweet_metrics_clean.rename(columns={'created_at': 'timestamp',\n",
    "                                    'id_str': 'tweet_id',\n",
    "                                    'in_reply_to_status_id_str': 'in_reply_to_status_id'}, inplace=True)"
   ]
  },
  {
   "cell_type": "markdown",
   "metadata": {},
   "source": [
    "#### Test"
   ]
  },
  {
   "cell_type": "code",
   "execution_count": 31,
   "metadata": {},
   "outputs": [
    {
     "data": {
      "text/plain": [
       "Index(['tweet_id', 'retweet_count', 'favorite_count', 'timestamp',\n",
       "       'in_reply_to_status_id'],\n",
       "      dtype='object')"
      ]
     },
     "execution_count": 31,
     "metadata": {},
     "output_type": "execute_result"
    }
   ],
   "source": [
    "tweet_metrics_clean.columns"
   ]
  },
  {
   "cell_type": "markdown",
   "metadata": {},
   "source": [
    "### Issues with retweets\n",
    "- Some rows are only retweets or replies to existing rating tweets and others are not related to dog rating at all\n",
    "\n",
    "The rows that are retweets either repeat themselves with their original tweet which is also present in our Dataset or are retweets from tweet originaly made by other accounts (other than @dog_rates). The same issue is observed for lines that are replies to other tweets"
   ]
  },
  {
   "cell_type": "markdown",
   "metadata": {
    "collapsed": true,
    "extensions": {
     "jupyter_dashboards": {
      "version": 1,
      "views": {
       "grid_default": {
        "hidden": true
       },
       "report_default": {
        "hidden": true
       }
      }
     }
    }
   },
   "source": [
    "#### Define\n",
    "- Filter `twitter_archive` and extract all lines having `retweeted_status_id` and `in_reply_to_status_id` set to `null`"
   ]
  },
  {
   "cell_type": "markdown",
   "metadata": {},
   "source": [
    "#### Code"
   ]
  },
  {
   "cell_type": "code",
   "execution_count": 32,
   "metadata": {},
   "outputs": [],
   "source": [
    "twitter_archive_clean = twitter_archive_clean.query('in_reply_to_status_id != in_reply_to_status_id and retweeted_status_id != retweeted_status_id')\n"
   ]
  },
  {
   "cell_type": "markdown",
   "metadata": {},
   "source": [
    "#### Test"
   ]
  },
  {
   "cell_type": "code",
   "execution_count": 33,
   "metadata": {},
   "outputs": [],
   "source": [
    "assert len(twitter_archive_clean.query('in_reply_to_status_id > 0 and retweeted_status_id > 0')) == 0"
   ]
  },
  {
   "cell_type": "markdown",
   "metadata": {},
   "source": [
    "### `expanded_urls` column issues\n",
    "- `expanded_url` in datatable `twitter_archive` containts repeated urls on a single line and also links from accounts other than __@dog_rates__\n",
    "- Missing data in `expanded_url` in datatable `twitter_archive`\n",
    "\n",
    "Some lines contain multiple values in the `expanded_url` column separated by a comma. Some of those values repeat themselves and others does not correspond to tweets made by __@dog_rates__.\n",
    "Some lines are just empty in that column"
   ]
  },
  {
   "cell_type": "markdown",
   "metadata": {},
   "source": [
    "#### Define\n",
    "- Split the values in `expanded_url` using the comma as separator and only keep the first value containing __dog_rates__ in its text.\n",
    "- Unfortunately, there is nothing we can do for missing expanded_urls"
   ]
  },
  {
   "cell_type": "markdown",
   "metadata": {},
   "source": [
    "#### Code"
   ]
  },
  {
   "cell_type": "code",
   "execution_count": 34,
   "metadata": {},
   "outputs": [],
   "source": [
    "def clean_expanded_url(expanded_url):\n",
    "    clean_url = None\n",
    "    if not pd.isnull(expanded_url):\n",
    "        for url in expanded_url.split(','):\n",
    "            if 'dog_rates' in url:\n",
    "                clean_url = url.strip()\n",
    "                break\n",
    "    return clean_url"
   ]
  },
  {
   "cell_type": "code",
   "execution_count": 35,
   "metadata": {},
   "outputs": [],
   "source": [
    "twitter_archive_clean.expanded_urls = twitter_archive_clean.expanded_urls.apply(clean_expanded_url)"
   ]
  },
  {
   "cell_type": "markdown",
   "metadata": {},
   "source": [
    "#### Test"
   ]
  },
  {
   "cell_type": "code",
   "execution_count": 36,
   "metadata": {},
   "outputs": [],
   "source": [
    "assert twitter_archive_clean.expanded_urls.str.contains(',').sum() == 0"
   ]
  },
  {
   "cell_type": "markdown",
   "metadata": {},
   "source": [
    "### Invalid ratings\n",
    "- Invalid dog rating in columns `rating_numerator` and `rating_denominator` read from the text of some tweets\n",
    "\n",
    "- Agregated rating for pictures having more than 1 dog in it (204/170, 45/50, ...), not all ratings are done __/10__\n",
    "\n",
    "- Invalid rating : some tweets have a `rating_denominator` which is not a multiple of 10, others have `0` as `rating_numerator` or `rating_denominator`\n",
    "\n",
    "There was probably an error while extracting the ratings from the text since the algorithm only considered the first appearance of any couple of numbers in the format x/y although on some posts, the rating is further away. The algorithm sometimes mistakes a date to a rating.\n",
    "\n",
    "On some lines we noticed via visual observation that images having many dogs usually have a rating which is `n*(x/10)` where `n` is the number of dogs and `x/10` is a valid rating.\n",
    "\n",
    "There are some rows where the numerator is 0 or the denominator is 0. They correspond to posts where either there is no dog thus no valid rating or it's a valid post but with a stolen picture making them invalid."
   ]
  },
  {
   "cell_type": "markdown",
   "metadata": {},
   "source": [
    "#### Define\n",
    "\n",
    "- Extract the rating for a second time on all lines in the `text` column by considering the latest couple of numbers in the format __x/y__ in the `text` using the __python regex__ function `re.findall()[-1]` with the pattern `(\\d+)/(\\d+)` to extract both `rating_numerator` and `rating_denominator` at the same time\n",
    "- For `rating_denominator` that are not multiple of 10, set `rating_denominator` to the value `0`\n",
    "- For `rating_denominator` with value >10 that are multiple of 10, replace `rating_numerator` using the formula `rating_numerator = 10 * rating_numerator / rating_denominator` and set `rating_denominator` to the value `10` \n",
    "- Delete all lines with either `rating_numerator == 0` or `rating_denominator == 0`"
   ]
  },
  {
   "cell_type": "markdown",
   "metadata": {},
   "source": [
    "#### Code"
   ]
  },
  {
   "cell_type": "code",
   "execution_count": 37,
   "metadata": {},
   "outputs": [],
   "source": [
    "def fix_rating(df):\n",
    "    num, den = re.findall('(\\d+)/(\\d+)', df.text)[-1]\n",
    "    num, den = int(num), int(den)\n",
    "    if (den % 10) != 0:\n",
    "        den = 0\n",
    "    elif den > 0:\n",
    "        num = int(10 * num / den)\n",
    "        den = 10\n",
    "    df.rating_numerator = num\n",
    "    df.rating_denominator = den\n",
    "    return df"
   ]
  },
  {
   "cell_type": "code",
   "execution_count": 38,
   "metadata": {},
   "outputs": [],
   "source": [
    "twitter_archive_clean = twitter_archive_clean.apply(fix_rating, axis = 1)\n",
    "\n",
    "# Delete all lines where rating_numerator == 0 or rating_denominator == 0\n",
    "twitter_archive_clean = twitter_archive_clean.query('rating_numerator != 0 and rating_denominator != 0')"
   ]
  },
  {
   "cell_type": "markdown",
   "metadata": {},
   "source": [
    "#### Test"
   ]
  },
  {
   "cell_type": "code",
   "execution_count": 39,
   "metadata": {},
   "outputs": [],
   "source": [
    "assert len(twitter_archive_clean.query('rating_numerator == 0 or rating_denominator == 0')) == 0\n",
    "assert len(twitter_archive_clean.query('rating_denominator != 10')) == 0"
   ]
  },
  {
   "cell_type": "markdown",
   "metadata": {},
   "source": [
    "### Issues with dog name\n",
    "- Dogs with `name` __\"a\", \"by\", \"an\", \"getting\"__ in column `twitter_archives.name`\n",
    "- Missing dog name using the text `'None'` instead of `NaN`\n",
    "\n",
    "The name of dogs where probably extracted automatically from the `text` column and some times the algorithm failed to detect the name and just return __\"a\"__ or __\"by\"__ or __\"an\"__ or __\"getting\"__ as value."
   ]
  },
  {
   "cell_type": "markdown",
   "metadata": {},
   "source": [
    "#### Define\n",
    "- Transform the `text` to lowercase with `str.lower()` then extract dog name (at least 2 characters to eliminate `a` as value) from text using __python regex__ with the following patterns :\n",
    "    - `'this is ([a-zA-Z]{2,})'`\n",
    "    - `'name is ([a-zA-Z]{2,})'`\n",
    "    - `'meet ([a-zA-Z]{2,})'`\n",
    "    - `'hello to ([a-zA-Z]{2,})'`\n",
    "    - `'named ([a-zA-Z]{2,})'`\n",
    "- Each time a pattern is tested, if the extracted name is not valid (empty or equal to `an` or `by` or `getting`) then apply the next pattern.\n",
    "- At the end, if all the patterns failed, return `NaN`\n",
    "- Capitalize the name before returning it with `str.capitalize()`"
   ]
  },
  {
   "cell_type": "markdown",
   "metadata": {},
   "source": [
    "#### Code"
   ]
  },
  {
   "cell_type": "code",
   "execution_count": 40,
   "metadata": {},
   "outputs": [],
   "source": [
    "def extract_name(text):\n",
    "    patterns = ['this is ([a-zA-Z]{2,})',\n",
    "                'name is ([a-zA-Z]{2,})',\n",
    "                'meet ([a-zA-Z]{2,})',\n",
    "                'hello to ([a-zA-Z]{2,})',\n",
    "                'named ([a-zA-Z]{2,})']\n",
    "    for p in patterns:\n",
    "        name = re.search(p, text.lower())\n",
    "        if name:\n",
    "            name = name[1]\n",
    "            if name in ['an', 'by', 'getting']:\n",
    "                continue\n",
    "            return name.capitalize()\n",
    "    return None"
   ]
  },
  {
   "cell_type": "code",
   "execution_count": 41,
   "metadata": {},
   "outputs": [],
   "source": [
    "twitter_archive_clean.name = twitter_archive_clean.text.apply(extract_name)"
   ]
  },
  {
   "cell_type": "markdown",
   "metadata": {},
   "source": [
    "#### Test"
   ]
  },
  {
   "cell_type": "code",
   "execution_count": 42,
   "metadata": {},
   "outputs": [],
   "source": [
    "assert len(twitter_archive_clean.query('name in [\"a\", \"an\", \"by\", \"getting\"]')) == 0"
   ]
  },
  {
   "cell_type": "markdown",
   "metadata": {},
   "source": [
    "### Issue with dog stage\n",
    "\n",
    "- Missing data in columns `doggo`, `floofer`, `pupper` and `puppo` using the text `None` instead of `NaN`\n",
    "- Dog stage information (1 variable) spread over 4 columns `doggo`, `floofer`, `pupper` and `puppo` in datatable `twitter_archive`\n",
    "\n",
    "The four stages of a dog are `pupper` -> `puppo` -> `doggo` -> `floofer` in that order. The information presented in the dataset is not tidy."
   ]
  },
  {
   "cell_type": "markdown",
   "metadata": {},
   "source": [
    "#### Define\n",
    "\n",
    "- Create a new column `stage` containing the name of the dog stage (`pupper`, `puppo`, `doggo` or `floofer`) depending on the four columns mentionned above by considering the first stage encountered in the reverse order :\n",
    "    - If `floofer` is mentionned then set the value to `'floofer'`, else\n",
    "    - If `doggo` is mentionned then set the value to `'doggo'`, else\n",
    "    - If `puppo` is mentionned then set the value to `'puppo'`, else\n",
    "    - If `pupper` is mentionned then set th evalue to `'pupper'`.\n",
    "- If none of the four columns has a valid value, set `stage` to `NaN`\n",
    "- Drop all four unnecessary columns with `pandas` `.drop()` function"
   ]
  },
  {
   "cell_type": "markdown",
   "metadata": {},
   "source": [
    "#### Code"
   ]
  },
  {
   "cell_type": "code",
   "execution_count": 43,
   "metadata": {},
   "outputs": [],
   "source": [
    "def extract_stage(df):\n",
    "    if df.floofer == 'floofer':\n",
    "        return 'floofer'\n",
    "    if df.doggo == 'doggo':\n",
    "        return 'doggo'\n",
    "    if df.puppo == 'puppo':\n",
    "        return 'puppo'\n",
    "    if df.pupper == 'pupper':\n",
    "        return 'pupper'\n",
    "    return None"
   ]
  },
  {
   "cell_type": "code",
   "execution_count": 44,
   "metadata": {},
   "outputs": [],
   "source": [
    "twitter_archive_clean['stage'] = twitter_archive_clean.apply(extract_stage, axis=1)\n",
    "twitter_archive_clean.drop(columns=['pupper', 'doggo', 'puppo', 'floofer'], inplace=True)"
   ]
  },
  {
   "cell_type": "markdown",
   "metadata": {},
   "source": [
    "#### Test"
   ]
  },
  {
   "cell_type": "code",
   "execution_count": 45,
   "metadata": {},
   "outputs": [
    {
     "data": {
      "text/plain": [
       "array([None, 'doggo', 'puppo', 'pupper', 'floofer'], dtype=object)"
      ]
     },
     "execution_count": 45,
     "metadata": {},
     "output_type": "execute_result"
    }
   ],
   "source": [
    "twitter_archive_clean.stage.unique()"
   ]
  },
  {
   "cell_type": "code",
   "execution_count": 46,
   "metadata": {},
   "outputs": [
    {
     "data": {
      "text/plain": [
       "Index(['tweet_id', 'in_reply_to_status_id', 'in_reply_to_user_id', 'timestamp',\n",
       "       'source', 'text', 'retweeted_status_id', 'retweeted_status_user_id',\n",
       "       'retweeted_status_timestamp', 'expanded_urls', 'rating_numerator',\n",
       "       'rating_denominator', 'name', 'stage'],\n",
       "      dtype='object')"
      ]
     },
     "execution_count": 46,
     "metadata": {},
     "output_type": "execute_result"
    }
   ],
   "source": [
    "twitter_archive_clean.columns"
   ]
  },
  {
   "cell_type": "markdown",
   "metadata": {},
   "source": [
    "### Missing image prediction and data in different tables\n",
    "\n",
    "- Missing data in table `image_predictions` : 2075 instead of 2356\n",
    "- Dog race and tweet counts located in separate tables\n",
    "\n",
    "We don't have all information on dog image prediction, we will only consider the data already collected in `image_predictions` table"
   ]
  },
  {
   "cell_type": "markdown",
   "metadata": {},
   "source": [
    "#### Define\n",
    "\n",
    "- Perform an inner merge between tables `twitter_archive` and `image_prediction` using the column `tweet_id`\n",
    "- Perform an inner merge between tables `twitter_archive` and `tweeter_metrics` using the column `tweet_id`\n",
    "- Drop unnecessary columns"
   ]
  },
  {
   "cell_type": "markdown",
   "metadata": {},
   "source": [
    "#### Code"
   ]
  },
  {
   "cell_type": "code",
   "execution_count": 47,
   "metadata": {},
   "outputs": [],
   "source": [
    "merged = twitter_archive_clean.merge(image_predictions_clean, how='inner', on='tweet_id')\n",
    "twitter_archive_clean = merged.merge(tweet_metrics_clean[['tweet_id', 'retweet_count', 'favorite_count']], how='inner', on='tweet_id')\n"
   ]
  },
  {
   "cell_type": "code",
   "execution_count": 48,
   "metadata": {},
   "outputs": [],
   "source": [
    "drop_columns = ['in_reply_to_status_id', 'in_reply_to_user_id', 'source',\n",
    "                'retweeted_status_id', 'retweeted_status_user_id', 'retweeted_status_timestamp',\n",
    "                'jpg_url', 'img_num']\n",
    "twitter_archive_clean.drop(columns=drop_columns, inplace=True)"
   ]
  },
  {
   "cell_type": "markdown",
   "metadata": {},
   "source": [
    "#### Test"
   ]
  },
  {
   "cell_type": "code",
   "execution_count": 49,
   "metadata": {},
   "outputs": [
    {
     "name": "stdout",
     "output_type": "stream",
     "text": [
      "<class 'pandas.core.frame.DataFrame'>\n",
      "Int64Index: 1961 entries, 0 to 1960\n",
      "Data columns (total 19 columns):\n",
      " #   Column              Non-Null Count  Dtype         \n",
      "---  ------              --------------  -----         \n",
      " 0   tweet_id            1961 non-null   int64         \n",
      " 1   timestamp           1961 non-null   datetime64[ns]\n",
      " 2   text                1961 non-null   object        \n",
      " 3   expanded_urls       1961 non-null   object        \n",
      " 4   rating_numerator    1961 non-null   int64         \n",
      " 5   rating_denominator  1961 non-null   int64         \n",
      " 6   name                1403 non-null   object        \n",
      " 7   stage               302 non-null    object        \n",
      " 8   p1                  1961 non-null   object        \n",
      " 9   p1_conf             1961 non-null   float64       \n",
      " 10  p1_dog              1961 non-null   bool          \n",
      " 11  p2                  1961 non-null   object        \n",
      " 12  p2_conf             1961 non-null   float64       \n",
      " 13  p2_dog              1961 non-null   bool          \n",
      " 14  p3                  1961 non-null   object        \n",
      " 15  p3_conf             1961 non-null   float64       \n",
      " 16  p3_dog              1961 non-null   bool          \n",
      " 17  retweet_count       1961 non-null   int64         \n",
      " 18  favorite_count      1961 non-null   int64         \n",
      "dtypes: bool(3), datetime64[ns](1), float64(3), int64(5), object(7)\n",
      "memory usage: 266.2+ KB\n"
     ]
    }
   ],
   "source": [
    "twitter_archive_clean.info()"
   ]
  },
  {
   "cell_type": "markdown",
   "metadata": {},
   "source": [
    "### Missing dog species\n",
    "\n",
    "- Missing dog species in `twitter_archive` table"
   ]
  },
  {
   "cell_type": "markdown",
   "metadata": {},
   "source": [
    "#### Define\n",
    "- Create a new column named `species` containing the dog specie with the best prediction and for which `px_dog` is `True`\n",
    "- Drop unnecessary columns"
   ]
  },
  {
   "cell_type": "markdown",
   "metadata": {},
   "source": [
    "#### Code"
   ]
  },
  {
   "cell_type": "code",
   "execution_count": 50,
   "metadata": {},
   "outputs": [],
   "source": [
    "def extract_species(df):\n",
    "    species = None\n",
    "    conf = 0.0\n",
    "    if df.p1_dog:\n",
    "        conf = df.p1_conf\n",
    "        species = df.p1\n",
    "    elif df.p2_dog:\n",
    "        if df.p2_conf > conf:\n",
    "            conf = df.p2_conf\n",
    "            species = df.p2\n",
    "    elif df.p3_dog:\n",
    "        if df.p3_conf > conf:\n",
    "            species = df.p3\n",
    "    if species:\n",
    "        return species.replace('_', ' ').capitalize()\n",
    "    return None"
   ]
  },
  {
   "cell_type": "code",
   "execution_count": 51,
   "metadata": {},
   "outputs": [],
   "source": [
    "twitter_archive_clean['species'] = twitter_archive_clean.apply(extract_species, axis=1)\n",
    "drop_columns = ['p1', 'p1_conf', 'p1_dog', 'p2', 'p2_conf', 'p2_dog', 'p3', 'p3_conf', 'p3_dog']\n",
    "twitter_archive_clean.drop(columns = drop_columns, inplace=True)"
   ]
  },
  {
   "cell_type": "markdown",
   "metadata": {},
   "source": [
    "#### Test"
   ]
  },
  {
   "cell_type": "code",
   "execution_count": 52,
   "metadata": {},
   "outputs": [
    {
     "data": {
      "text/html": [
       "<div>\n",
       "<style scoped>\n",
       "    .dataframe tbody tr th:only-of-type {\n",
       "        vertical-align: middle;\n",
       "    }\n",
       "\n",
       "    .dataframe tbody tr th {\n",
       "        vertical-align: top;\n",
       "    }\n",
       "\n",
       "    .dataframe thead th {\n",
       "        text-align: right;\n",
       "    }\n",
       "</style>\n",
       "<table border=\"1\" class=\"dataframe\">\n",
       "  <thead>\n",
       "    <tr style=\"text-align: right;\">\n",
       "      <th></th>\n",
       "      <th>tweet_id</th>\n",
       "      <th>timestamp</th>\n",
       "      <th>text</th>\n",
       "      <th>expanded_urls</th>\n",
       "      <th>rating_numerator</th>\n",
       "      <th>rating_denominator</th>\n",
       "      <th>name</th>\n",
       "      <th>stage</th>\n",
       "      <th>retweet_count</th>\n",
       "      <th>favorite_count</th>\n",
       "      <th>species</th>\n",
       "    </tr>\n",
       "  </thead>\n",
       "  <tbody>\n",
       "    <tr>\n",
       "      <th>35</th>\n",
       "      <td>884562892145688576</td>\n",
       "      <td>2017-07-11 00:00:02</td>\n",
       "      <td>This is Kevin. He's just so happy. 13/10 what ...</td>\n",
       "      <td>https://twitter.com/dog_rates/status/884562892...</td>\n",
       "      <td>13</td>\n",
       "      <td>10</td>\n",
       "      <td>Kevin</td>\n",
       "      <td>None</td>\n",
       "      <td>3898</td>\n",
       "      <td>21267</td>\n",
       "      <td>Pug</td>\n",
       "    </tr>\n",
       "    <tr>\n",
       "      <th>1599</th>\n",
       "      <td>672898206762672129</td>\n",
       "      <td>2015-12-04 22:00:08</td>\n",
       "      <td>This is Cheryl AKA Queen Pupper of the Skies. ...</td>\n",
       "      <td>https://twitter.com/dog_rates/status/672898206...</td>\n",
       "      <td>11</td>\n",
       "      <td>10</td>\n",
       "      <td>Cheryl</td>\n",
       "      <td>pupper</td>\n",
       "      <td>363</td>\n",
       "      <td>794</td>\n",
       "      <td>None</td>\n",
       "    </tr>\n",
       "    <tr>\n",
       "      <th>366</th>\n",
       "      <td>813066809284972545</td>\n",
       "      <td>2016-12-25 17:00:08</td>\n",
       "      <td>This is Tyr. He is disgusted by holiday traffi...</td>\n",
       "      <td>https://twitter.com/dog_rates/status/813066809...</td>\n",
       "      <td>12</td>\n",
       "      <td>10</td>\n",
       "      <td>Tyr</td>\n",
       "      <td>None</td>\n",
       "      <td>1822</td>\n",
       "      <td>7532</td>\n",
       "      <td>Toy terrier</td>\n",
       "    </tr>\n",
       "    <tr>\n",
       "      <th>443</th>\n",
       "      <td>794926597468000259</td>\n",
       "      <td>2016-11-05 15:37:24</td>\n",
       "      <td>This is Mack. He's rather h*ckin sleepy. Excep...</td>\n",
       "      <td>https://twitter.com/dog_rates/status/794926597...</td>\n",
       "      <td>12</td>\n",
       "      <td>10</td>\n",
       "      <td>Mack</td>\n",
       "      <td>None</td>\n",
       "      <td>2153</td>\n",
       "      <td>9658</td>\n",
       "      <td>Toy poodle</td>\n",
       "    </tr>\n",
       "    <tr>\n",
       "      <th>1159</th>\n",
       "      <td>692752401762250755</td>\n",
       "      <td>2016-01-28 16:53:37</td>\n",
       "      <td>\"Hello yes could I get one pupper to go please...</td>\n",
       "      <td>https://twitter.com/dog_rates/status/692752401...</td>\n",
       "      <td>13</td>\n",
       "      <td>10</td>\n",
       "      <td>None</td>\n",
       "      <td>pupper</td>\n",
       "      <td>3296</td>\n",
       "      <td>6276</td>\n",
       "      <td>Samoyed</td>\n",
       "    </tr>\n",
       "  </tbody>\n",
       "</table>\n",
       "</div>"
      ],
      "text/plain": [
       "                tweet_id           timestamp  \\\n",
       "35    884562892145688576 2017-07-11 00:00:02   \n",
       "1599  672898206762672129 2015-12-04 22:00:08   \n",
       "366   813066809284972545 2016-12-25 17:00:08   \n",
       "443   794926597468000259 2016-11-05 15:37:24   \n",
       "1159  692752401762250755 2016-01-28 16:53:37   \n",
       "\n",
       "                                                   text  \\\n",
       "35    This is Kevin. He's just so happy. 13/10 what ...   \n",
       "1599  This is Cheryl AKA Queen Pupper of the Skies. ...   \n",
       "366   This is Tyr. He is disgusted by holiday traffi...   \n",
       "443   This is Mack. He's rather h*ckin sleepy. Excep...   \n",
       "1159  \"Hello yes could I get one pupper to go please...   \n",
       "\n",
       "                                          expanded_urls  rating_numerator  \\\n",
       "35    https://twitter.com/dog_rates/status/884562892...                13   \n",
       "1599  https://twitter.com/dog_rates/status/672898206...                11   \n",
       "366   https://twitter.com/dog_rates/status/813066809...                12   \n",
       "443   https://twitter.com/dog_rates/status/794926597...                12   \n",
       "1159  https://twitter.com/dog_rates/status/692752401...                13   \n",
       "\n",
       "      rating_denominator    name   stage  retweet_count  favorite_count  \\\n",
       "35                    10   Kevin    None           3898           21267   \n",
       "1599                  10  Cheryl  pupper            363             794   \n",
       "366                   10     Tyr    None           1822            7532   \n",
       "443                   10    Mack    None           2153            9658   \n",
       "1159                  10    None  pupper           3296            6276   \n",
       "\n",
       "          species  \n",
       "35            Pug  \n",
       "1599         None  \n",
       "366   Toy terrier  \n",
       "443    Toy poodle  \n",
       "1159      Samoyed  "
      ]
     },
     "execution_count": 52,
     "metadata": {},
     "output_type": "execute_result"
    }
   ],
   "source": [
    "twitter_archive_clean.sample(5)"
   ]
  },
  {
   "cell_type": "markdown",
   "metadata": {},
   "source": [
    "## Storing Data\n",
    "Save gathered, assessed, and cleaned master dataset to a CSV file named \"twitter_archive_master.csv\"."
   ]
  },
  {
   "cell_type": "code",
   "execution_count": 53,
   "metadata": {},
   "outputs": [],
   "source": [
    "twitter_archive_clean.to_csv('twitter_archive_master.csv', index=False)"
   ]
  },
  {
   "cell_type": "markdown",
   "metadata": {},
   "source": [
    "## Analyzing and Visualizing Data\n",
    "In this section, we will analyze and visualize our wrangled data. We will produce at least **three (3) insights and one (1) visualization.**"
   ]
  },
  {
   "cell_type": "code",
   "execution_count": 54,
   "metadata": {},
   "outputs": [
    {
     "name": "stdout",
     "output_type": "stream",
     "text": [
      "<class 'pandas.core.frame.DataFrame'>\n",
      "RangeIndex: 1961 entries, 0 to 1960\n",
      "Data columns (total 11 columns):\n",
      " #   Column              Non-Null Count  Dtype \n",
      "---  ------              --------------  ----- \n",
      " 0   tweet_id            1961 non-null   int64 \n",
      " 1   timestamp           1961 non-null   object\n",
      " 2   text                1961 non-null   object\n",
      " 3   expanded_urls       1961 non-null   object\n",
      " 4   rating_numerator    1961 non-null   int64 \n",
      " 5   rating_denominator  1961 non-null   int64 \n",
      " 6   name                1403 non-null   object\n",
      " 7   stage               302 non-null    object\n",
      " 8   retweet_count       1961 non-null   int64 \n",
      " 9   favorite_count      1961 non-null   int64 \n",
      " 10  species             1656 non-null   object\n",
      "dtypes: int64(5), object(6)\n",
      "memory usage: 168.6+ KB\n"
     ]
    }
   ],
   "source": [
    "twitter_archive_master = pd.read_csv('twitter_archive_master.csv')\n",
    "twitter_archive_master.info()"
   ]
  },
  {
   "cell_type": "code",
   "execution_count": 55,
   "metadata": {},
   "outputs": [
    {
     "data": {
      "image/png": "[encoded data removed]",
      "text/plain": [
       "<Figure size 1080x720 with 1 Axes>"
      ]
     },
     "metadata": {},
     "output_type": "display_data"
    }
   ],
   "source": [
    "plt.figure(figsize=(15, 10))\n",
    "sns.countplot(x='rating_numerator', data=twitter_archive_master)\n",
    "plt.title('Rating counts')\n",
    "plt.xlabel('Rating /10')\n",
    "plt.show()"
   ]
  },
  {
   "cell_type": "code",
   "execution_count": 56,
   "metadata": {},
   "outputs": [
    {
     "data": {
      "image/png": "[encoded data removed]",
      "text/plain": [
       "<Figure size 1080x720 with 1 Axes>"
      ]
     },
     "metadata": {},
     "output_type": "display_data"
    }
   ],
   "source": [
    "plt.figure(figsize=(15, 10))\n",
    "sns.countplot(x='stage', data=twitter_archive_master)\n",
    "plt.title('Dog stage counts')\n",
    "plt.show()"
   ]
  },
  {
   "cell_type": "code",
   "execution_count": 57,
   "metadata": {
    "scrolled": false
   },
   "outputs": [
    {
     "data": {
      "text/plain": [
       "Golden retriever        155\n",
       "Labrador retriever      103\n",
       "Pembroke                 94\n",
       "Chihuahua                90\n",
       "Pug                      62\n",
       "                       ... \n",
       "Entlebucher               1\n",
       "Clumber                   1\n",
       "Standard schnauzer        1\n",
       "Bouvier des flandres      1\n",
       "Japanese spaniel          1\n",
       "Name: species, Length: 113, dtype: int64"
      ]
     },
     "execution_count": 57,
     "metadata": {},
     "output_type": "execute_result"
    }
   ],
   "source": [
    "twitter_archive_master.species.value_counts()"
   ]
  },
  {
   "cell_type": "code",
   "execution_count": 58,
   "metadata": {
    "scrolled": true
   },
   "outputs": [
    {
     "data": {
      "text/plain": [
       "stage\n",
       "doggo      1231585\n",
       "floofer      93153\n",
       "pupper     1253041\n",
       "puppo       429536\n",
       "Name: favorite_count, dtype: int64"
      ]
     },
     "execution_count": 58,
     "metadata": {},
     "output_type": "execute_result"
    }
   ],
   "source": [
    "twitter_archive_master.groupby('stage').favorite_count.sum()"
   ]
  },
  {
   "cell_type": "markdown",
   "metadata": {},
   "source": [
    "### Insights:\n",
    "1. The most represented ratings in our dataset are **10**, **11** and **12**. The majority of dogs were real _**good boys**_ with a rating above 10/10\n",
    "\n",
    "1. Most of the rated pictures are of dogs at the **pupper** stage\n",
    "\n",
    "1. The 04 most represented species are **Golder retrievers**, **Labrador retriever**, **Pembroke** and **Chihuahua**\n",
    "\n",
    "1. Post receiving the most likes are of dogs at **doggo** or **pupper** stages"
   ]
  },
  {
   "cell_type": "markdown",
   "metadata": {
    "collapsed": true
   },
   "source": [
    "### Visualization\n",
    "\n",
    "- Relationship between dog species and tweet favorites"
   ]
  },
  {
   "cell_type": "code",
   "execution_count": 59,
   "metadata": {},
   "outputs": [
    {
     "data": {
      "image/png": "[encoded data removed]",
      "text/plain": [
       "<Figure size 1440x720 with 1 Axes>"
      ]
     },
     "metadata": {},
     "output_type": "display_data"
    }
   ],
   "source": [
    "species = list(twitter_archive_master.species.value_counts()[twitter_archive_master.species.value_counts() > 40].index)\n",
    "df = twitter_archive_master.query(f'species in {species}')\n",
    "df = df.groupby('species', as_index=False).mean().sort_values(by='favorite_count', ascending=False)\n",
    "\n",
    "plt.figure(figsize=(20, 10))\n",
    "sns.barplot(x=df.species, y=df.favorite_count)\n",
    "plt.xticks(rotation='vertical')\n",
    "plt.xlabel('Species')\n",
    "plt.ylabel('Favorite count')\n",
    "plt.title('Relationship between dog species and average favorite count')\n",
    "plt.show()"
   ]
  },
  {
   "cell_type": "code",
   "execution_count": 60,
   "metadata": {},
   "outputs": [
    {
     "data": {
      "image/png": "[encoded data removed]",
      "text/plain": [
       "<Figure size 1080x720 with 1 Axes>"
      ]
     },
     "metadata": {},
     "output_type": "display_data"
    }
   ],
   "source": [
    "df = twitter_archive_master.groupby('stage', as_index=False).mean().sort_values(by='favorite_count', ascending=False)\n",
    "plt.figure(figsize=(15, 10))\n",
    "sns.barplot(x=df.stage, y=df.favorite_count)\n",
    "plt.xlabel('Dog stage')\n",
    "plt.ylabel('Favorite count')\n",
    "plt.title('Relationship between dog stage and average favorite count')\n",
    "plt.show()"
   ]
  },
  {
   "cell_type": "code",
   "execution_count": null,
   "metadata": {},
   "outputs": [],
   "source": []
  }
 ],
 "metadata": {
  "extensions": {
   "jupyter_dashboards": {
    "activeView": "report_default",
    "version": 1,
    "views": {
     "grid_default": {
      "cellMargin": 10,
      "defaultCellHeight": 20,
      "maxColumns": 12,
      "name": "grid",
      "type": "grid"
     },
     "report_default": {
      "name": "report",
      "type": "report"
     }
    }
   }
  },
  "kernelspec": {
   "display_name": "Python [conda env:DataAnalysis]",
   "language": "python",
   "name": "conda-env-DataAnalysis-py"
  },
  "language_info": {
   "codemirror_mode": {
    "name": "ipython",
    "version": 3
   },
   "file_extension": ".py",
   "mimetype": "text/x-python",
   "name": "python",
   "nbconvert_exporter": "python",
   "pygments_lexer": "ipython3",
   "version": "3.6.13"
  }
 },
 "nbformat": 4,
 "nbformat_minor": 2
}
